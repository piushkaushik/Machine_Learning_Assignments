{
 "cells": [
  {
   "cell_type": "markdown",
   "id": "ddb061b9",
   "metadata": {},
   "source": [
    "## 1. Define the Bayesian interpretation of probability."
   ]
  },
  {
   "cell_type": "markdown",
   "id": "b9a40e76",
   "metadata": {},
   "source": [
    "**Ans:**"
   ]
  },
  {
   "cell_type": "markdown",
   "id": "c8be3a4e",
   "metadata": {},
   "source": [
    "The Bayesian interpretation of probability is a framework that views probability as a measure of subjective belief or uncertainty. It is centered on the idea that probability represents an individual's or agent's degree of confidence in the occurrence of an event."
   ]
  },
  {
   "cell_type": "markdown",
   "id": "51337192",
   "metadata": {},
   "source": [
    "## 2. Define probability of a union of two events with equation."
   ]
  },
  {
   "cell_type": "markdown",
   "id": "aca331a0",
   "metadata": {},
   "source": [
    "**Ans:**"
   ]
  },
  {
   "cell_type": "markdown",
   "id": "b711771c",
   "metadata": {},
   "source": [
    "### Probability of a union of two events:"
   ]
  },
  {
   "cell_type": "markdown",
   "id": "2624a208",
   "metadata": {},
   "source": [
    "The probability of the union of two events, denoted as P(A ∪ B), is defined as the probability that either event A or event B or both will occur. The equation for the probability of the union of two events is given by:\n",
    "\n",
    "$$P(A ∪ B) = P(A) + P(B) - P(A ∩ B)$$\n",
    "\n",
    "Where:\n",
    "\n",
    "- $P(A ∪ B)$ is the probability of the union of events A and B.\n",
    "- $P(A)$ is the probability of event A.\n",
    "- $P(B)$ is the probability of event B.\n",
    "- $P(A ∩ B)$ is the probability of the intersection of events A and B (i.e., the probability that both events A and B occur simultaneously).\n",
    "\n",
    "The equation accounts for the fact that when calculating the probability of the union, the probability of the intersection (the overlap) between the two events is counted twice. To avoid double-counting, it subtracts $P(A ∩ B)$ from the sum of $P(A)$ and $P(B)$. This gives the correct probability of either event A or event B occurring.\n"
   ]
  },
  {
   "cell_type": "markdown",
   "id": "3bc04ca1",
   "metadata": {},
   "source": [
    "## 3. What is joint probability? What is its formula?"
   ]
  },
  {
   "cell_type": "markdown",
   "id": "0f5d92c2",
   "metadata": {},
   "source": [
    "**Ans:**"
   ]
  },
  {
   "cell_type": "markdown",
   "id": "85c0ef8f",
   "metadata": {},
   "source": [
    "**Joint probability** is a fundamental concept in probability theory, and it represents the probability of two or more events occurring simultaneously. In other words, it measures the likelihood that multiple events will happen together. Joint probability is denoted as P(A and B), where A and B are two events, and it can be extended to more than two events.\n",
    "\n",
    "The formula for joint probability of two events A and B is given by:\n",
    "\n",
    "$$P(A \\text{ and } B) = P(A) \\cdot P(B|A)$$\n",
    "\n",
    "Where:\n",
    "- $P(A \\text{ and } B)$ is the joint probability of events A and B occurring together.\n",
    "- $P(A)$ is the probability of event A occurring.\n",
    "- $P(B|A)$ is the conditional probability of event B occurring given that event A has already occurred.\n",
    "\n",
    "This formula essentially says that the joint probability of two events A and B is the product of the probability of event A and the conditional probability of event B given that event A has occurred. It quantifies the likelihood of both events happening in sequence.\n",
    "\n",
    "For independent events, where the occurrence of one event does not affect the other, the formula simplifies to:\n",
    "\n",
    "$$P(A \\text{ and } B) = P(A) \\cdot P(B)$$\n"
   ]
  },
  {
   "cell_type": "markdown",
   "id": "d8e14966",
   "metadata": {},
   "source": [
    "## 4. What is chain rule of probability?"
   ]
  },
  {
   "cell_type": "markdown",
   "id": "b3ff5ee3",
   "metadata": {},
   "source": [
    "**Ans:**"
   ]
  },
  {
   "cell_type": "markdown",
   "id": "3b330854",
   "metadata": {},
   "source": [
    "### Chain rule of probability:\n",
    "\n",
    "The **chain rule of probability**, also known as the **multiplication rule**, is a fundamental concept in probability theory that allows you to calculate the joint probability of multiple events by breaking it down into conditional probabilities. It is a generalization of the multiplication rule for conditional probabilities.\n",
    "\n",
    "The chain rule is commonly used when dealing with complex or compound events, where you want to find the probability of all events happening together. It is particularly useful when events are not necessarily independent.\n",
    "\n",
    "The general form of the chain rule for three events (A, B, and C) is expressed as:\n",
    "\n",
    "$$P(A \\text{ and } B \\text{ and } C) = P(A) \\cdot P(B|A) \\cdot P(C|A \\text{ and } B)$$\n",
    "\n",
    "In words, this formula states that the joint probability of events A, B, and C occurring together is calculated as the product of the probability of event A, the conditional probability of event B given that A has occurred, and the conditional probability of event C given that both A and B have occurred.\n",
    "\n",
    "The chain rule can be extended to more than three events by applying the same logic iteratively. For n events (A_1, A_2, ..., A_n), the chain rule is expressed as:\n",
    "\n",
    "$$P(A_1 \\text{ and } A_2 \\text{ and } ... \\text{ and } A_n) = P(A_1) \\cdot P(A_2|A_1) \\cdot P(A_3|A_1 \\text{ and } A_2) \\cdot ... \\cdot P(A_n|A_1 \\text{ and } A_2 \\text{ and } ... \\text{ and } A_{n-1})$$\n",
    "\n",
    "\n",
    "The chain rule is a powerful tool for calculating the probability of complex events and is often used in Bayesian statistics, machine learning, and various fields where probabilistic reasoning is essential. It allows you to break down complex probability calculations into a series of simpler conditional probabilities, making them more manageable."
   ]
  },
  {
   "cell_type": "markdown",
   "id": "9da1014d",
   "metadata": {},
   "source": [
    "## 5. What is conditional probability means? What is the formula of it?"
   ]
  },
  {
   "cell_type": "markdown",
   "id": "73a96d39",
   "metadata": {},
   "source": [
    "**Ans:**"
   ]
  },
  {
   "cell_type": "markdown",
   "id": "6e7ef9ad",
   "metadata": {},
   "source": [
    "**Conditional probability** is a fundamental concept in probability theory that deals with the probability of an event occurring given that another event has already occurred. In other words, it quantifies the likelihood of one event happening under the condition that we know another event has taken place. Conditional probability is denoted as P(A | B), where A is the event of interest, and B is the condition.\n",
    "\n",
    "The formula for conditional probability is as follows:\n",
    "\n",
    "$$P(A | B) = \\frac{P(A \\text{ and } B)}{P(B)}$$\n",
    "\n",
    "Where:\n",
    "- $P(A | B)$ is the conditional probability of event A occurring given that event B has occurred.\n",
    "- $P(A \\text{ and } B)$ is the joint probability of both events A and B happening together.\n",
    "- $P(B)$ is the probability of event B occurring.\n",
    "\n",
    "In this formula, the numerator represents the joint probability of both events A and B occurring together. The denominator represents the probability of event B occurring as a base or reference probability. By dividing the joint probability by the probability of B, we obtain the conditional probability of A given B."
   ]
  },
  {
   "cell_type": "markdown",
   "id": "cb3d83e4",
   "metadata": {},
   "source": [
    "## 6. What are continuous random variables?"
   ]
  },
  {
   "cell_type": "markdown",
   "id": "4322039f",
   "metadata": {},
   "source": [
    "**Ans:**"
   ]
  },
  {
   "cell_type": "markdown",
   "id": "fbd7eb05",
   "metadata": {},
   "source": [
    "A continuous random variable is one which takes an infinite number of possible values. Continuous random variables are usually measurements. Examples include height, weight, the amount of sugar in an orange, the time required to run a mile."
   ]
  },
  {
   "cell_type": "markdown",
   "id": "d03a377c",
   "metadata": {},
   "source": [
    "## 7. What are Bernoulli distributions? What is the formula of it?"
   ]
  },
  {
   "cell_type": "markdown",
   "id": "35ef1d36",
   "metadata": {},
   "source": [
    "**Ans:**"
   ]
  },
  {
   "cell_type": "markdown",
   "id": "5bb431d6",
   "metadata": {},
   "source": [
    "### Bernoulli distributions:"
   ]
  },
  {
   "cell_type": "markdown",
   "id": "87c72051",
   "metadata": {},
   "source": [
    "Bernoulli distribution is a discrete probability distribution. It describes the probability of achieving a “success” or “failure” from a Bernoulli trial. A Bernoulli trial is an event that has only two possible outcomes (success or failure)."
   ]
  },
  {
   "cell_type": "markdown",
   "id": "ca67f30f",
   "metadata": {},
   "source": [
    "- For example, will a coin land on heads (success) or tails (failure)?"
   ]
  },
  {
   "cell_type": "markdown",
   "id": "529ed3e8",
   "metadata": {},
   "source": [
    "**Formula:**\n",
    "\n",
    "$${\\displaystyle f(k;p)={\\begin{cases}p&{\\text{if }}k=1,\\\\q=1-p&{\\text{if }}k=0.\\end{cases}}}$$\n",
    "\n",
    "\n",
    "\n",
    "This can also be expressed as\n",
    "\n",
    "$${\\displaystyle f(k;p)=p^{k}(1-p)^{1-k}\\quad {\\text{for }}k\\in \\{0,1\\}}$$"
   ]
  },
  {
   "cell_type": "markdown",
   "id": "0889185e",
   "metadata": {},
   "source": [
    "- *f(k;p) is the probability that the random variable takes on the value k.*\n",
    "- *k is the value that the random variable can take, where k can be either 0 or 1 (typically representing success and failure, respectively).*\n",
    "- *p is the probability of success, which is the probability that the random variable takes on the value 1 (i.e., p represents the probability of success).*"
   ]
  },
  {
   "cell_type": "markdown",
   "id": "65fe398e",
   "metadata": {},
   "source": [
    "## 8. What is binomial distribution? What is the formula?"
   ]
  },
  {
   "cell_type": "markdown",
   "id": "969aa72e",
   "metadata": {},
   "source": [
    "**Ans:**"
   ]
  },
  {
   "cell_type": "markdown",
   "id": "fd6803f1",
   "metadata": {},
   "source": [
    "The **binomial distribution** is a discrete probability distribution that models the number of successes (usually denoted as \"k\") in a fixed number of independent Bernoulli trials (experiments with two possible outcomes: success and failure). The binomial distribution is named after the Swiss mathematician Jacob Bernoulli.\n",
    "\n",
    "Key characteristics of the binomial distribution include:\n",
    "\n",
    "1. **Two Outcomes:** Like the Bernoulli distribution, the binomial distribution deals with experiments having two possible outcomes: success and failure.\n",
    "\n",
    "\n",
    "2. **Fixed Number of Trials:** The binomial distribution considers a fixed number of independent trials, denoted as \"n.\" In each trial, the probability of success, denoted as \"p,\" remains the same.\n",
    "\n",
    "\n",
    "3. **Discrete Random Variable:** The random variable representing the number of successes (k) is discrete, taking on non-negative integer values.\n",
    "\n",
    "\n",
    "4. **Notation:** The binomial distribution is denoted as B(n, p), where \"n\" is the number of trials, and \"p\" is the probability of success in each trial.\n",
    "\n",
    "\n",
    "The probability mass function (PMF) of the binomial distribution is given by the formula:\n",
    "\n",
    "$$P(X = k) = \\binom{n}{k} \\cdot p^k \\cdot (1 - p)^{n - k}$$\n",
    "\n",
    "Where:\n",
    "- $P(X = k)$ is the probability that the random variable X takes on the value \"k\" (i.e., the number of successes).\n",
    "- $\\binom{n}{k}$ is the binomial coefficient, which represents the number of ways to choose \"k\" successes out of \"n\" trials and is calculated as $$\\binom{n}{k} = \\frac{n!}{k!(n - k)!}$$.\n",
    "- $p$ is the probability of success in each individual trial.\n",
    "- $(1 - p)$ is the probability of failure in each individual trial.\n",
    "- $k$ is the number of successes.\n",
    "\n",
    "The binomial distribution is commonly used to model scenarios where you want to know the probability of getting a specific number of successes in a fixed number of repeated and independent trials. Examples include the probability of getting a certain number of heads in a series of coin flips, the likelihood of passing a certain number of exam questions, or the probability of successful outcomes in manufacturing processes."
   ]
  },
  {
   "cell_type": "markdown",
   "id": "53017879",
   "metadata": {},
   "source": [
    "## 9. What is Poisson distribution? What is the formula?"
   ]
  },
  {
   "cell_type": "markdown",
   "id": "fc5ea41a",
   "metadata": {},
   "source": [
    "**Ans:**"
   ]
  },
  {
   "cell_type": "markdown",
   "id": "915c90d8",
   "metadata": {},
   "source": [
    "The **Poisson distribution** is a discrete probability distribution that models the number of events that occur in a fixed interval of time or space, given a known average rate of occurrence. It is often used to describe rare and infrequent events.\n",
    "\n",
    "Formula:\n",
    "$$P(X = k) = \\frac{e^{-λ} \\cdot λ^k}{k!}$$\n",
    "\n",
    "Where:\n",
    "- $P(X = k)$ is the probability of observing $k$ events.\n",
    "\n",
    "- $e$ is the base of the natural logarithm (approximately 2.71828).\n",
    "\n",
    "- $\\lambda\\$ is the average rate of occurrence of events.\n",
    "\n",
    "- $k$ is the number of events.\n",
    "\n",
    "The Poisson distribution is commonly used in scenarios like modeling the number of customer arrivals at a service center in a given hour, counting the number of emails received per day, or estimating the number of rare defects in a production process."
   ]
  },
  {
   "cell_type": "markdown",
   "id": "6bbe7da4",
   "metadata": {},
   "source": [
    "## 10. Define covariance."
   ]
  },
  {
   "cell_type": "markdown",
   "id": "fd22941e",
   "metadata": {},
   "source": [
    "**Ans:**"
   ]
  },
  {
   "cell_type": "markdown",
   "id": "69fe7192",
   "metadata": {},
   "source": [
    "- **Definition:** Covariance measures the joint variability of two random variables. It indicates the direction of the linear relationship between the variables. If the variables tend to increase or decrease together, the covariance is positive. If one tends to increase when the other decreases, the covariance is negative.\n",
    "\n",
    "\n",
    "- **Formula:** The formula for the covariance between two random variables X and Y is given as:\n",
    "\n",
    "  $$ \\text{Cov}(X, Y) = \\frac{1}{n} \\sum_{i=1}^{n} (x_i - \\bar{X})(y_i - \\bar{Y}) $$\n",
    "\n",
    "\n",
    "  Where:\n",
    "  - $\\text{Cov}(X, Y)$ is the covariance between X and Y.\n",
    "  - $n$ is the number of data points.\n",
    "  - $x_i$ and y_iare individual data points for X and Y.\n",
    "  - $\\bar{X}$ and $\\bar{Y}$ are the means (average values) of X and Y, respectively.\n",
    "\n",
    "- **Interpretation:**\n",
    "\n",
    "\n",
    "  - A positive covariance suggests that as X increases, Y tends to increase as well.\n",
    "  - A negative covariance suggests that as X increases, Y tends to decrease, and vice versa.\n",
    "  - A covariance of zero indicates no linear relationship between the variables, but it does not imply independence.\n",
    "\n",
    "\n",
    "\n",
    "- **Units of Measurement:** Covariance is measured in the units of the product of the units of X and Y.\n",
    "\n",
    "Covariance is widely used in statistics and data analysis. However, it has some limitations, such as not being a standardized measure and not providing information about the strength of the relationship between variables. To address these limitations, the correlation coefficient is often used, which is a standardized measure of the linear relationship between variables."
   ]
  },
  {
   "cell_type": "markdown",
   "id": "df835f88",
   "metadata": {},
   "source": [
    "## 11. Define correlation."
   ]
  },
  {
   "cell_type": "markdown",
   "id": "440930ed",
   "metadata": {},
   "source": [
    "**Ans:**"
   ]
  },
  {
   "cell_type": "markdown",
   "id": "2abd88e0",
   "metadata": {},
   "source": [
    "**Correlation** is a statistical measure that quantifies the strength and direction of the linear relationship between two continuous random variables. It assesses how changes in one variable are associated with changes in another variable.\n",
    "\n",
    "**Formula for the Pearson correlation coefficient (r):**\n",
    "$$r = \\frac{\\sum{(x_i - \\bar{x})(y_i - \\bar{y})}}{\\sqrt{\\sum{(x_i - \\bar{x})^2} \\sum{(y_i - \\bar{y})^2}}}$$\n",
    "\n",
    "In this formula:\n",
    "- $r$ is the Pearson correlation coefficient.\n",
    "\n",
    "- $x_i$ and $y_i$ are individual data points for the two variables.\n",
    "\n",
    "- $\\bar{x}$ and $\\bar{y}$ are the means (average values) of the two variables, respectively.\n",
    "\n",
    "\n",
    "The Pearson correlation coefficient ranges from -1 (perfect negative correlation) to 1 (perfect positive correlation), with 0 indicating no linear correlation.\n",
    "\n",
    "Correlation is commonly used in various fields, such as statistics, economics, and data analysis, to assess the relationship between two variables and make predictions based on this relationship."
   ]
  },
  {
   "cell_type": "markdown",
   "id": "95691e26",
   "metadata": {},
   "source": [
    "## 12. Define sampling with replacement. Give example."
   ]
  },
  {
   "cell_type": "markdown",
   "id": "ed03112c",
   "metadata": {},
   "source": [
    "**Ans:**"
   ]
  },
  {
   "cell_type": "markdown",
   "id": "6a01ba19",
   "metadata": {},
   "source": [
    "**Sampling with replacement** is a statistical and sampling technique in which, when drawing a sample from a population, each selected item is returned to the population before the next item is selected. In other words, after each item is chosen, it is placed back into the original population, and it can be selected again in subsequent draws. This process allows for the possibility of selecting the same item more than once in the sample.\n",
    "\n",
    "**Example of sampling with replacement:**\n",
    "\n",
    "Let's say you have a bag of colored marbles, and you want to draw three marbles from the bag with replacement. The bag contains the following marbles:\n",
    "\n",
    "- Red\n",
    "- Blue\n",
    "- Green\n",
    "- Yellow\n",
    "\n",
    "Here's how sampling with replacement works:\n",
    "\n",
    "1. You reach into the bag and randomly select a marble. Let's say you pick a Red marble.\n",
    "2. Instead of keeping the Red marble out of the bag, you place it back into the bag.\n",
    "3. You reach into the bag again and select another marble. This time you pick a Green marble.\n",
    "4. You place the Green marble back into the bag.\n",
    "5. You perform one more draw and select a Yellow marble.\n",
    "6. You place the Yellow marble back into the bag.\n",
    "\n",
    "In this process, each time you draw a marble, it goes back into the bag before the next draw. This means that the same color of marble can be selected multiple times, and the sample can contain duplicates.\n",
    "\n",
    "Sampling with replacement is commonly used in scenarios where it is acceptable to have duplicate items in the sample and where each item is equally likely to be selected in each draw. This method is often used in statistical simulations and in certain types of probability and statistics experiments."
   ]
  },
  {
   "cell_type": "markdown",
   "id": "d75275f0",
   "metadata": {},
   "source": [
    "## 13. What is sampling without replacement? Give example."
   ]
  },
  {
   "cell_type": "markdown",
   "id": "35308b37",
   "metadata": {},
   "source": [
    "**Ans:**"
   ]
  },
  {
   "cell_type": "markdown",
   "id": "f717114d",
   "metadata": {},
   "source": [
    "**Sampling without replacement** is a statistical and sampling technique in which, when drawing a sample from a population, each selected item is not returned to the population before the next item is chosen. In other words, once an item is selected and removed from the population, it cannot be selected again in subsequent draws. This process ensures that each item in the sample is unique.\n",
    "\n",
    "**Example of sampling without replacement:**\n",
    "\n",
    "Imagine you have a deck of playing cards, and you want to draw three cards from the deck without replacement. The deck contains 52 cards, and here's how sampling without replacement works:\n",
    "\n",
    "1. You start with the full deck of 52 cards.\n",
    "2. You randomly draw the first card from the deck, let's say it's the Ace of Spades.\n",
    "3. You do not return the Ace of Spades to the deck; it is removed from the population.\n",
    "4. You draw the second card from the remaining 51 cards, perhaps it's the Five of Hearts.\n",
    "5. The Five of Hearts is also removed from the population.\n",
    "6. Finally, you draw the third card from the remaining 50 cards, which might be the Queen of Diamonds.\n",
    "\n",
    "In this process, you are not putting the cards back into the deck after each draw. Each card can only be selected once, and the sample does not contain duplicates.\n",
    "\n",
    "Sampling without replacement is often used when it is important to ensure that each item in the sample is unique and distinct. It is commonly used in surveys, experiments, and many statistical applications where the removal of items from the population is a crucial aspect of the sampling process."
   ]
  },
  {
   "cell_type": "markdown",
   "id": "f978a84a",
   "metadata": {},
   "source": [
    "## 14. What is hypothesis? Give example."
   ]
  },
  {
   "cell_type": "markdown",
   "id": "79e4f101",
   "metadata": {},
   "source": [
    "**Ans:**"
   ]
  },
  {
   "cell_type": "markdown",
   "id": "ac1af3b0",
   "metadata": {},
   "source": [
    "A **hypothesis** is a testable statement or proposition that serves as a basis for making predictions and conducting experiments or investigations. In the context of machine learning and data analysis, a hypothesis is a proposed explanation or conjecture about a relationship between variables or a pattern in data. \n",
    "\n",
    "\n",
    "**Example:** \n",
    "\n",
    "Suppose you are working on a predictive modeling task in e-commerce and you want to improve product recommendations for customers. You might formulate the following hypothesis:\n",
    "\n",
    "**Hypothesis:** \"Increasing the number of customer reviews for a product will lead to better product recommendations.\"\n",
    "\n",
    "In this hypothesis:\n",
    "\n",
    "- The **independent variable** is the \"number of customer reviews for a product.\"\n",
    "- The **dependent variable** is the \"quality of product recommendations.\"\n",
    "- The hypothesis suggests that there is a relationship between the number of customer reviews and the quality of recommendations.\n",
    "- It can be tested by collecting data on the number of reviews and the quality of recommendations and analyzing the relationship between them.\n"
   ]
  },
  {
   "cell_type": "code",
   "execution_count": null,
   "id": "c84e3500",
   "metadata": {},
   "outputs": [],
   "source": []
  }
 ],
 "metadata": {
  "kernelspec": {
   "display_name": "Python 3 (ipykernel)",
   "language": "python",
   "name": "python3"
  },
  "language_info": {
   "codemirror_mode": {
    "name": "ipython",
    "version": 3
   },
   "file_extension": ".py",
   "mimetype": "text/x-python",
   "name": "python",
   "nbconvert_exporter": "python",
   "pygments_lexer": "ipython3",
   "version": "3.9.7"
  }
 },
 "nbformat": 4,
 "nbformat_minor": 5
}
