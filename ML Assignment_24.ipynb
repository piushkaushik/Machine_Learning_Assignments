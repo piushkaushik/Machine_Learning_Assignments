{
 "cells": [
  {
   "cell_type": "markdown",
   "metadata": {
    "id": "jYBOcrT5R0s9"
   },
   "source": [
    "## 1. What is your definition of clustering? What are a few clustering algorithms you might think of?"
   ]
  },
  {
   "cell_type": "markdown",
   "metadata": {
    "id": "bwpf8X93R1XF"
   },
   "source": [
    "**Ans:**"
   ]
  },
  {
   "cell_type": "markdown",
   "metadata": {
    "id": "m5xuFy4hR1Z9"
   },
   "source": [
    "#### Definition of clustering:\n",
    "\n",
    "Clustering is a type of unsupervised machine learning technique that involves grouping similar data points or objects into clusters or subgroups based on their intrinsic characteristics or similarities. The goal of clustering is to identify underlying patterns or structures in the data, making it easier to understand and analyze complex datasets.\n",
    "\n",
    "Here are a few clustering algorithms commonly used in machine learning:\n",
    "\n",
    "1. **K-Means Clustering:** K-Means is one of the most popular clustering algorithms. It partitions data into 'k' clusters by finding cluster centroids that minimize the sum of squared distances between data points and their nearest centroid. It is efficient and works well for many applications.\n",
    "\n",
    "\n",
    "2. **Hierarchical Clustering:** This algorithm creates a tree-like structure of clusters, where each data point starts as its cluster. Clusters are successively merged to form a hierarchy. This approach can be visualized as a dendrogram, which is useful for understanding hierarchical relationships in data.\n",
    "\n",
    "\n",
    "3. **DBSCAN (Density-Based Spatial Clustering of Applications with Noise):** DBSCAN groups data points that are close to each other in dense regions while marking isolated points as noise. It can find clusters of arbitrary shapes and is robust to noise.\n",
    "\n",
    "\n",
    "4. **Mean Shift:** Mean Shift is a non-parametric clustering algorithm that finds cluster centers as modes of the data distribution. It adapts to the shape of the data distribution and can find clusters of various shapes and sizes.\n",
    "\n",
    "\n",
    "5. **Gaussian Mixture Model (GMM):** GMM models data as a mixture of several Gaussian distributions, each representing a cluster. It is a probabilistic model that assigns data points to clusters based on the likelihood of belonging to each Gaussian distribution.\n"
   ]
  },
  {
   "cell_type": "markdown",
   "metadata": {
    "id": "ewSix7tuR1d4"
   },
   "source": [
    "## 2. What are some of the most popular clustering algorithm applications?"
   ]
  },
  {
   "cell_type": "markdown",
   "metadata": {
    "id": "EAyXFpyNRoS9"
   },
   "source": [
    "**Ans:**"
   ]
  },
  {
   "cell_type": "markdown",
   "metadata": {
    "id": "a9tYZscXRnLm"
   },
   "source": [
    "Clustering algorithms are used in a wide range of applications across various domains. Some of the most popular applications of clustering algorithms include:\n",
    "\n",
    "1. **Image Segmentation:** Clustering is used to segment images into distinct regions or objects. It is widely applied in medical image analysis, object recognition, and computer vision.\n",
    "\n",
    "\n",
    "2. **Customer Segmentation:** In marketing and e-commerce, clustering helps businesses group customers based on their behavior, preferences, or demographics. This enables targeted marketing and personalized recommendations.\n",
    "\n",
    "\n",
    "3. **Anomaly Detection:** Clustering can be used to identify anomalies or outliers in datasets. It is valuable for fraud detection, network security, and quality control in manufacturing.\n",
    "\n",
    "\n",
    "4. **Document Clustering:** Text documents can be clustered into categories or topics, making it easier to organize and retrieve information. This is commonly used in information retrieval and content recommendation systems.\n",
    "\n",
    "\n",
    "5. **Genomic Data Analysis:** Clustering is applied to gene expression data to discover patterns and group genes with similar functions. It helps in understanding genetic relationships and identifying biomarkers.\n",
    "\n",
    "\n",
    "6. **Market Basket Analysis:** In retail, clustering is used to find associations between products frequently purchased together, enabling store layout optimization and product recommendations.\n",
    "\n",
    "\n",
    "7. **Social Network Analysis:** Clustering algorithms help identify communities or groups within social networks. This is useful for understanding social dynamics and targeted advertising.\n",
    "\n",
    "\n",
    "8. **Image Compression:** Image clustering can be used for compression by storing representative images for clusters of similar images instead of individual images.\n",
    "\n",
    "\n",
    "9. **Recommendation Systems:** Clustering is essential for collaborative filtering and content-based recommendation systems, helping to recommend products, movies, or content to users.\n",
    "\n",
    "\n",
    "10. **Speech and Audio Processing:** Clustering can group audio segments with similar characteristics, making it useful in speech recognition, speaker identification, and music genre classification.\n",
    "\n",
    "\n",
    "11. **Geospatial Data Analysis:** Clustering is applied to geographic data for tasks such as identifying hotspots of disease outbreaks, traffic pattern analysis, and land cover classification.\n",
    "\n",
    "\n",
    "12. **Sentiment Analysis:** Clustering is used in natural language processing to group user reviews or social media posts into categories based on sentiment (positive, negative, neutral).\n",
    "\n",
    "\n",
    "13. **Quality Control:** In manufacturing and industrial applications, clustering is used to monitor and control product quality by identifying clusters of faulty or suboptimal products.\n",
    "\n",
    "\n",
    "14. **Network Traffic Analysis:** Clustering helps in understanding and managing network traffic by identifying patterns, bottlenecks, and anomalies.\n",
    "\n",
    "\n",
    "15. **Content Grouping:** Clustering is used in content management systems to group similar articles, videos, or other content for easy organization and retrieval.\n",
    "\n",
    "These are just a few examples of the many applications of clustering algorithms. Clustering is a versatile technique that can be adapted to various data analysis tasks, making it a fundamental tool in machine learning and data science."
   ]
  },
  {
   "cell_type": "markdown",
   "metadata": {
    "id": "grki-5DVSQpm"
   },
   "source": [
    "## 3. When using K-Means, describe two strategies for selecting the appropriate number of clusters."
   ]
  },
  {
   "cell_type": "markdown",
   "metadata": {
    "id": "FuQhQE85SXzW"
   },
   "source": [
    "**Ans:**"
   ]
  },
  {
   "cell_type": "markdown",
   "metadata": {
    "id": "Qot1SAmQSYW9"
   },
   "source": [
    "Selecting the appropriate number of clusters (k) in K-Means is a crucial step, and there are several strategies to help determine the optimal number of clusters:\n",
    "\n",
    "1. **Elbow Method:**\n",
    "- The Elbow Method is a graphical approach to finding the optimal number of clusters. It involves running K-Means with a range of values for k (e.g., from 1 to 10) and plotting the within-cluster sum of squares (WCSS) against the number of clusters.\n",
    "   \n",
    "   \n",
    "- The WCSS measures the sum of squared distances between data points and their assigned cluster centroids. As the number of clusters increases, the WCSS tends to decrease because data points are closer to their centroids.\n",
    "   \n",
    "   \n",
    "- In the Elbow Method, you look for an \"elbow point\" on the plot where the rate of decrease in WCSS sharply changes. This point represents a good trade-off between the number of clusters and the compactness of the clusters. Typically, the point where the WCSS begins to level off is selected as the optimal k.\n"
   ]
  },
  {
   "cell_type": "code",
   "execution_count": null,
   "metadata": {
    "colab": {
     "base_uri": "https://localhost:8080/",
     "height": 472
    },
    "id": "Z8u3E_lBNTTn",
    "outputId": "d3675ae7-efc8-4810-a328-c23ef22d4c96"
   },
   "outputs": [
    {
     "data": {
      "image/png": "[encoded data removed]",
      "text/plain": [
       "<Figure size 640x480 with 1 Axes>"
      ]
     },
     "metadata": {},
     "output_type": "display_data"
    }
   ],
   "source": [
    "import numpy as np\n",
    "from sklearn.cluster import KMeans\n",
    "import matplotlib.pyplot as plt\n",
    "\n",
    "# Generate dummy data\n",
    "np.random.seed(0)\n",
    "data = np.random.rand(100, 2)\n",
    "\n",
    "wcss = []\n",
    "for i in range(1, 11):\n",
    "    kmeans = KMeans(n_clusters=i, init='k-means++', max_iter=300, n_init=10, random_state=0)\n",
    "    kmeans.fit(data)\n",
    "    wcss.append(kmeans.inertia_)\n",
    "\n",
    "plt.plot(range(1, 11), wcss)\n",
    "plt.xlabel('Number of Clusters')\n",
    "plt.ylabel('WCSS')\n",
    "plt.title('Elbow Method')\n",
    "plt.show()\n"
   ]
  },
  {
   "cell_type": "markdown",
   "metadata": {
    "id": "tHv7v9MKSUjV"
   },
   "source": [
    "2. **Silhouette Score:**\n",
    "   - The Silhouette Score is a metric that measures how similar each data point in one cluster is to the other data points in the same cluster compared to the nearest neighboring cluster.\n",
    "   - For each value of k, calculate the average Silhouette Score across all data points. Higher Silhouette Scores indicate better-defined clusters.\n",
    "   - Select the number of clusters (k) that maximizes the Silhouette Score.\n"
   ]
  },
  {
   "cell_type": "code",
   "execution_count": null,
   "metadata": {
    "id": "K7IKT7wDN5c_"
   },
   "outputs": [],
   "source": [
    "from sklearn.metrics import silhouette_score\n",
    "\n",
    "# Generate dummy data\n",
    "np.random.seed(0)\n",
    "X = np.random.rand(100, 2)\n",
    "\n",
    "silhouette_scores = []\n",
    "for i in range(2, 11):\n",
    "    kmeans = KMeans(n_clusters=i, init='k-means++', max_iter=300, n_init=10, random_state=0)\n",
    "    kmeans.fit(X)\n",
    "    silhouette_scores.append(silhouette_score(X, kmeans.labels_))\n",
    "\n",
    "best_k = silhouette_scores.index(max(silhouette_scores)) + 2\n"
   ]
  },
  {
   "cell_type": "code",
   "execution_count": null,
   "metadata": {
    "colab": {
     "base_uri": "https://localhost:8080/"
    },
    "id": "Qnf61U3MOXwt",
    "outputId": "b31fd484-c29c-465f-d934-2d983fd76bb6"
   },
   "outputs": [
    {
     "data": {
      "text/plain": [
       "6"
      ]
     },
     "execution_count": 10,
     "metadata": {},
     "output_type": "execute_result"
    }
   ],
   "source": [
    "best_k"
   ]
  },
  {
   "cell_type": "markdown",
   "metadata": {
    "id": "GKXOiEABTaRf"
   },
   "source": [
    "## 4. What is mark propagation and how does it work? Why would you do it, and how would you do it?"
   ]
  },
  {
   "cell_type": "markdown",
   "metadata": {
    "id": "rXsNoHoLTgM1"
   },
   "source": [
    "**Ans:**"
   ]
  },
  {
   "cell_type": "markdown",
   "metadata": {
    "id": "zUsF_aXmTgdN"
   },
   "source": [
    "It seems like given question referring to \"message propagation\" or \"belief propagation,\" which are terms often used in the context of probabilistic graphical models (PGMs) and graphical models.\n",
    "\n",
    "Message propagation, specifically in the context of PGMs, is a technique used to perform probabilistic inference, such as computing marginal probabilities or making predictions. It's commonly applied in Bayesian networks and Markov networks (Markov random fields). Here's how it works:\n",
    "\n",
    "1. **Graphical Model:** You start with a graphical model that represents the probabilistic relationships between random variables. This model is usually represented as a graph, where nodes represent random variables, and edges represent probabilistic dependencies.\n",
    "\n",
    "2. **Message Passing:** Message propagation is an iterative process. It begins by sending messages between connected nodes in the graph. These messages contain information about the conditional probabilities of a node given the values of its neighbors.\n",
    "\n",
    "3. **Message Updates:** At each iteration, nodes update the messages they send to their neighbors based on incoming messages from their other neighbors. This process continues until a convergence criterion is met (e.g., messages no longer change significantly).\n",
    "\n",
    "4. **Inference:** Once the message passing converges, you can perform various types of inference tasks. For instance, you can compute marginal probabilities of variables, make predictions, or perform other probabilistic reasoning tasks.\n",
    "\n",
    "Message propagation is crucial for making efficient inferences in complex graphical models. It's used when you want to compute probabilities or make predictions in situations where it's computationally expensive to directly compute the joint distribution of all variables.\n",
    "\n",
    "Reasons to use message propagation include:\n",
    "\n",
    "- **Efficiency:** Message propagation can be much more efficient than alternative methods for performing inference in graphical models, particularly for large and complex models.\n",
    "\n",
    "- **Scalability:** It allows you to work with models that would be infeasible to handle using brute-force methods.\n",
    "\n",
    "- **Inference Tasks:** You can use message propagation for tasks like anomaly detection, classification, regression, and many other tasks that involve probabilistic reasoning.\n",
    "\n",
    "- **Uncertainty Modeling:** It helps in modeling and reasoning about uncertainty in complex systems.\n",
    "\n",
    "The specific algorithms and procedures for message propagation can vary based on the type of graphical model (e.g., belief propagation for Bayesian networks, sum-product algorithm for factor graphs). The choice of algorithm depends on the problem you're trying to solve and the characteristics of your model."
   ]
  },
  {
   "cell_type": "markdown",
   "metadata": {
    "id": "meBSK66UTgpt"
   },
   "source": [
    "## 5. Provide two examples of clustering algorithms that can handle large datasets. And two that look for high-density areas?"
   ]
  },
  {
   "cell_type": "markdown",
   "metadata": {
    "id": "u7CdaxzKTg0l"
   },
   "source": [
    "**Ans:**"
   ]
  },
  {
   "cell_type": "markdown",
   "metadata": {
    "id": "eyMSE1WiU-p-"
   },
   "source": [
    "### Clustering Algorithms that can handle large datasets:\n",
    "\n",
    "1. **K-Means Clustering:** K-Means is a widely used clustering algorithm that can handle large datasets efficiently. It's a partitioning method that divides data into K clusters based on centroids. Its simplicity and speed make it suitable for large datasets, but it has some limitations, such as sensitivity to the initial choice of centroids.\n",
    "\n",
    "\n",
    "2. **DBSCAN (Density-Based Spatial Clustering of Applications with Noise):** DBSCAN is a density-based clustering algorithm that is particularly well-suited for discovering clusters of arbitrary shapes and handling noise in large datasets. It identifies high-density areas as clusters and can adapt to different cluster shapes and sizes.\n",
    "\n",
    "### Clustering Algorithms that look for high-density areas:\n",
    "\n",
    "1. **Mean-Shift Clustering:** Mean-Shift is a non-parametric clustering algorithm that can find high-density areas or modes in the data. It is capable of handling large datasets and is particularly useful for cases where clusters have irregular shapes or sizes.\n",
    "\n",
    "\n",
    "2. **OPTICS (Ordering Points To Identify the Clustering Structure):** OPTICS is another density-based clustering algorithm that can identify high-density areas and hierarchical cluster structures. It's designed to work well with large datasets and provides a flexible way to find clusters based on different density parameters.\n",
    "\n",
    "\n",
    "These algorithms offer different approaches to clustering and can be selected based on the specific characteristics of the data and the clustering task at hand. K-Means and DBSCAN are well-established choices for a wide range of applications, while Mean-Shift and OPTICS are valuable when dealing with complex structures and high-density areas."
   ]
  },
  {
   "cell_type": "markdown",
   "metadata": {
    "id": "B5J0UVGzU_Ed"
   },
   "source": [
    "## 6. Can you think of a scenario in which constructive learning will be advantageous? How can you go about putting it into action?"
   ]
  },
  {
   "cell_type": "markdown",
   "metadata": {
    "id": "Bqbu11ctU_QN"
   },
   "source": [
    "**Ans:**\n",
    "\n"
   ]
  },
  {
   "cell_type": "markdown",
   "metadata": {
    "id": "oDHo92WyWfY-"
   },
   "source": [
    "Constructive learning, also known as incremental learning or lifelong learning, is advantageous in scenarios where a machine learning model needs to adapt and learn continuously from new data without forgetting the knowledge it has acquired in the past. One common scenario where constructive learning is advantageous is in the development of personalized recommendation systems.\n",
    "\n",
    "\n",
    "Here's how it can be put into action:\n",
    "\n",
    "\n",
    "**Scenario:** Personalized Movie Recommendation System\n",
    "\n",
    "\n",
    "**Advantages:** Users' preferences for movies change over time, and new movies are constantly being released. To provide accurate and up-to-date recommendations, the recommendation system should be able to learn from user interactions with the platform and adapt to changing user preferences.\n",
    "\n",
    "**Implementation Steps:**\n",
    "\n",
    "1. **Data Collection:** Collect data on user interactions with the platform, including movie ratings, watch history, and user feedback. Also, gather information about new movies being released.\n",
    "\n",
    "\n",
    "2. **Initial Model:** Train an initial recommendation model using historical data. This model will serve as a starting point for providing recommendations.\n",
    "\n",
    "\n",
    "3. **Incremental Learning:** Implement an incremental learning framework that allows the model to learn from new data. This can involve techniques like online learning, where the model is updated in real-time as users interact with the system.\n",
    "\n",
    "\n",
    "4. **Model Update:** When a user rates or interacts with a movie, use the incremental learning process to update the model's understanding of the user's preferences. This ensures that the recommendations become more tailored to the user over time.\n",
    "\n",
    "\n",
    "5. **Regular Model Retraining:** Periodically, perform a full model retraining using a combination of historical and new data to maintain model quality and avoid performance degradation over time.\n",
    "\n",
    "\n",
    "6. **Feedback Loop:** Incorporate feedback mechanisms, such as user feedback on recommended movies, to further enhance the learning process.\n",
    "\n",
    "\n",
    "By implementing constructive learning in this scenario, the recommendation system can continuously adapt to user preferences and provide increasingly accurate movie recommendations, ultimately improving user satisfaction and engagement with the platform."
   ]
  },
  {
   "cell_type": "markdown",
   "metadata": {
    "id": "s5FdIWSbWfod"
   },
   "source": [
    "## 7. How do you tell the difference between anomaly and novelty detection?"
   ]
  },
  {
   "cell_type": "markdown",
   "metadata": {
    "id": "KLvFddhMWfrn"
   },
   "source": [
    "**Ans:**"
   ]
  },
  {
   "cell_type": "markdown",
   "metadata": {
    "id": "cf5X_oYlWfue"
   },
   "source": [
    "Anomaly detection focuses on finding abnormal instances within a dataset, including those that may have been seen during training. Novelty detection, on the other hand, is concerned with identifying entirely new and previously unseen instances that deviate from the training data distribution."
   ]
  },
  {
   "cell_type": "markdown",
   "metadata": {
    "id": "P6mAfeDPWfxW"
   },
   "source": [
    "## 8. What is a Gaussian mixture, and how does it work? What are some of the things you can do about it?"
   ]
  },
  {
   "cell_type": "markdown",
   "metadata": {
    "id": "zrNXp1vFOHMK"
   },
   "source": [
    "**Ans:**"
   ]
  },
  {
   "cell_type": "markdown",
   "metadata": {
    "id": "nIeZBHk6OHQs"
   },
   "source": [
    "### A Gaussian Mixture Model (GMM):\n",
    "\n",
    " This is a probabilistic model used in machine learning and statistics for modeling complex data distributions. It is particularly useful for capturing data that does not fit well into a single Gaussian (normal) distribution but can be explained by a combination of multiple Gaussian distributions. Here's how it works:\n",
    "\n",
    "**Model Overview:**\n",
    "\n",
    "1. **Components:** A GMM represents a dataset as a mixture of several Gaussian distributions, also known as components or clusters. Each component represents a group of data points that follow a Gaussian distribution.\n",
    "\n",
    "\n",
    "2. **Parameters:** For each component, a GMM estimates parameters like mean (μ), variance (σ²), and the mixing coefficient (π), which represents the probability of a data point belonging to that component.\n",
    "\n",
    "\n",
    "**How GMM Works:**\n",
    "\n",
    "\n",
    "1. **Initialization:** The GMM algorithm typically starts with an initial estimate of the component parameters (μ, σ², π). These initial estimates can be chosen randomly or through other methods.\n",
    "\n",
    "\n",
    "2. **Expectation-Maximization (EM) Algorithm:** GMM uses the EM algorithm to iteratively refine the parameter estimates. The EM algorithm consists of two main steps:\n",
    "   - **Expectation Step (E-step):** In this step, the algorithm calculates the posterior probabilities of each data point belonging to each component (i.e., the responsibility of each component for each data point).\n",
    "   - **Maximization Step (M-step):** In this step, the algorithm updates the parameters of each component (μ, σ², π) based on the responsibilities assigned to each component.\n",
    "\n",
    "\n",
    "3. **Convergence:** The EM algorithm continues to iterate between the E-step and M-step until the parameters converge. The final parameters represent the best-fitting Gaussian distributions for the data.\n",
    "\n",
    "\n",
    "**Applications and Use Cases:**\n",
    "\n",
    "\n",
    "GMMs have a wide range of applications, including but not limited to:\n",
    "- **Clustering:** GMMs can be used for clustering data into groups when the underlying data distribution is a mixture of Gaussians.\n",
    "- **Density Estimation:** GMMs can be used to estimate the probability density function of data, which is useful for anomaly detection.\n",
    "- **Dimensionality Reduction:** GMMs can be used in dimensionality reduction techniques, such as Gaussian Mixture Discriminant Analysis (GMDA).\n",
    "\n",
    "\n",
    "**Challenges:**\n",
    "\n",
    "\n",
    "- **Initialization:** GMM is sensitive to the choice of initial parameters, and poor initialization can lead to suboptimal solutions.\n",
    "- **Number of Components:** Determining the appropriate number of components (clusters) can be challenging and often requires techniques like the Bayesian Information Criterion (BIC) or cross-validation.\n",
    "- **Convergence:** Convergence to a global optimum can be slow, and the algorithm may get stuck in local optima.\n",
    "\n",
    "\n",
    "**A Gaussian Mixture Model is a powerful tool for modeling complex data distributions by representing data as a combination of Gaussian distributions. It is widely used in various applications, but careful initialization and choosing the right number of components are essential for its success.**"
   ]
  },
  {
   "cell_type": "markdown",
   "metadata": {
    "id": "MaRNrDJNPH_k"
   },
   "source": [
    "## 9. When using a Gaussian mixture model, can you name two techniques for determining the correct number of clusters?"
   ]
  },
  {
   "cell_type": "markdown",
   "metadata": {
    "id": "jQQ16pMXPIL6"
   },
   "source": [
    "**Ans:**"
   ]
  },
  {
   "cell_type": "markdown",
   "metadata": {
    "id": "VLlioEI9PIYK"
   },
   "source": [
    "1. **BIC (Bayesian Information Criterion):**\n",
    "   - **How it works:** BIC is a criterion that measures the quality of a model while penalizing model complexity. It balances model fit and the number of parameters used. Lower BIC values indicate a better model.\n",
    "   - **Application:** For GMM, you can fit the model with different numbers of components (clusters) and calculate the BIC for each model. The model with the lowest BIC is considered the most appropriate.\n",
    "   - **Procedure:** You would typically try a range of component numbers (e.g., from 1 to K, where K is the maximum number of components you're willing to consider) and select the number of components that minimizes the BIC.\n",
    "\n",
    "2. **Cross-Validation:**\n",
    "   - **How it works:** Cross-validation is a data-driven technique that assesses the model's performance on unseen data. The idea is to evaluate the model's fit and generalization to ensure it works well on new data.\n",
    "   - **Application:** For GMM, you can perform cross-validation by splitting your dataset into training and validation sets. Fit GMM models with different numbers of components on the training data and evaluate their performance on the validation data.\n",
    "   - **Procedure:** Choose the number of components that results in the best cross-validation performance. Common metrics for evaluating GMMs include log-likelihood, AIC (Akaike Information Criterion), or likelihood-based metrics.\n",
    "\n",
    "Both BIC and cross-validation help in selecting the number of clusters that balance model fit and complexity. However, it's important to note that there is no one-size-fits-all approach, and the choice of the technique may depend on the specific characteristics of your data and the goals of your analysis."
   ]
  },
  {
   "cell_type": "code",
   "execution_count": null,
   "metadata": {
    "id": "7RcfzrDDOZj_"
   },
   "outputs": [],
   "source": []
  }
 ],
 "metadata": {
  "colab": {
   "provenance": []
  },
  "kernelspec": {
   "display_name": "Python 3 (ipykernel)",
   "language": "python",
   "name": "python3"
  },
  "language_info": {
   "codemirror_mode": {
    "name": "ipython",
    "version": 3
   },
   "file_extension": ".py",
   "mimetype": "text/x-python",
   "name": "python",
   "nbconvert_exporter": "python",
   "pygments_lexer": "ipython3",
   "version": "3.9.7"
  }
 },
 "nbformat": 4,
 "nbformat_minor": 1
}
