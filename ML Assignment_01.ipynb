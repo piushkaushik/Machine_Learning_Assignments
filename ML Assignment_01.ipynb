{
 "cells": [
  {
   "cell_type": "markdown",
   "id": "5f060838",
   "metadata": {},
   "source": [
    "**1. What does one mean by the term \"machine learning\"?**"
   ]
  },
  {
   "cell_type": "markdown",
   "id": "306011f8",
   "metadata": {},
   "source": [
    "**Ans:**"
   ]
  },
  {
   "cell_type": "markdown",
   "id": "ded0dc1c",
   "metadata": {},
   "source": [
    "- Machine learning is a subset of artificial intelligence (AI) that involves the development of computer programs and algorithms that can learn and make predictions or decisions from data without being explicitly programmed. \n",
    "\n",
    "\n",
    "- In simple terms, it's about teaching computers to learn from examples and data so that they can perform tasks or make decisions on their own. \n",
    "\n",
    "\n",
    "- Instead of telling a computer exactly what to do, we provide it with data and algorithms that enable it to learn and improve its performance over time through experience. \n",
    "\n",
    "\n",
    "- Machine learning is used in a wide range of applications, from image recognition and natural language processing to recommendation systems and predictive analytics."
   ]
  },
  {
   "cell_type": "markdown",
   "id": "75751472",
   "metadata": {},
   "source": [
    "**2. Can you think of 4 distinct types of issues where it shines?**"
   ]
  },
  {
   "cell_type": "markdown",
   "id": "0291b178",
   "metadata": {},
   "source": [
    "**Ans:**"
   ]
  },
  {
   "cell_type": "markdown",
   "id": "d4317161",
   "metadata": {},
   "source": [
    "**1. Image Recognition and Computer Vision:**\n",
    "\n",
    "Machine learning, particularly deep learning, has revolutionized image recognition and computer vision tasks. It can identify objects, faces, and patterns in images and videos, making it valuable in applications like facial recognition, autonomous vehicles, medical image analysis, and security surveillance."
   ]
  },
  {
   "cell_type": "markdown",
   "id": "62bbd8b7",
   "metadata": {},
   "source": [
    "2. **Natural Language Processing (NLP):**\n",
    "\n",
    "NLP is the field of machine learning focused on understanding and processing human language. Machine learning models can perform tasks like sentiment analysis, language translation, chatbots, and text summarization. They enable us to interact with computers using natural language."
   ]
  },
  {
   "cell_type": "markdown",
   "id": "ce46d045",
   "metadata": {},
   "source": [
    "3. **Predictive Analytics and Forecasting:**\n",
    "\n",
    "Machine learning is widely used for predictive analytics and forecasting in various industries. It can analyze historical data to make predictions about future trends, customer behavior, stock prices, weather conditions, and more. This is valuable for making informed decisions and planning."
   ]
  },
  {
   "cell_type": "markdown",
   "id": "4d221f3c",
   "metadata": {},
   "source": [
    "4. **Healthcare and Medical Diagnosis:**\n",
    "\n",
    "Machine learning plays a crucial role in healthcare for tasks like disease diagnosis, medical image analysis (e.g., detecting tumors in X-rays), drug discovery, and personalized treatment recommendations. It can analyze vast amounts of patient data to assist doctors in making accurate diagnoses and treatment decisions."
   ]
  },
  {
   "cell_type": "markdown",
   "id": "50a38a62",
   "metadata": {},
   "source": [
    "**3.What is a labeled training set, and how does it work?**"
   ]
  },
  {
   "cell_type": "markdown",
   "id": "69a955cd",
   "metadata": {},
   "source": [
    "**Ans:**"
   ]
  },
  {
   "cell_type": "markdown",
   "id": "152f0d7e",
   "metadata": {},
   "source": [
    "A **labeled training set** in machine learning consists of two parts: \n",
    "\n",
    "**features** (X) and **labels** (Y). \n",
    "\n",
    "- Features (X) are the characteristics or data points you want to learn from.\n",
    "\n",
    "- Labels (Y) are the correct answers or predictions you want the machine learning model to make.\n",
    "\n",
    "The model learns from this data during training. It associates features (X) with corresponding labels (Y). Once trained, the model can predict or classify new data based on what it learned from the labeled training set. It's like teaching the model by example so that it can make accurate predictions in the future."
   ]
  },
  {
   "cell_type": "markdown",
   "id": "4c4f5a8a",
   "metadata": {},
   "source": [
    "**4. What are the two most important tasks that are supervised?**"
   ]
  },
  {
   "cell_type": "markdown",
   "id": "0935186f",
   "metadata": {},
   "source": [
    "**Ans:**"
   ]
  },
  {
   "cell_type": "markdown",
   "id": "ed62be61",
   "metadata": {},
   "source": [
    "In supervised machine learning, the two most important tasks are:\n",
    "\n",
    "1. **Classification:** \n",
    "\n",
    "- Classification is the task of assigning a predefined label or category to each input or data point based on its features.\n",
    "\n",
    "2. **Regression:** \n",
    "\n",
    "- Regression involves predicting a continuous numerical value or quantity based on input features. \n",
    "\n",
    "- In regression tasks, the model learns to establish a relationship between the input features and the target numerical value."
   ]
  },
  {
   "cell_type": "markdown",
   "id": "ed096364",
   "metadata": {},
   "source": [
    "**5. Can you think of four examples of unsupervised tasks?**"
   ]
  },
  {
   "cell_type": "markdown",
   "id": "09e389f6",
   "metadata": {},
   "source": [
    "**Ans:**"
   ]
  },
  {
   "cell_type": "markdown",
   "id": "60e18062",
   "metadata": {},
   "source": [
    "\n",
    "1. **Clustering:** Grouping similar data points together without predefined labels.\n",
    "\n",
    "2. **Dimensionality Reduction:** Reducing the number of features while preserving data patterns.\n",
    "\n",
    "3. **Anomaly Detection:** Identifying rare or unusual data points.\n",
    "\n",
    "4. **Topic Modeling:** Discovering hidden topics within collections of documents.\n",
    "\n",
    "*Unsupervised learning is used when we don't have labeled data and want to find patterns or insights within the data autonomously.*"
   ]
  },
  {
   "cell_type": "markdown",
   "id": "49920455",
   "metadata": {},
   "source": [
    "**6. State the machine learning model that would be best to make a robot walk through various unfamiliar terrains?**"
   ]
  },
  {
   "cell_type": "markdown",
   "id": "f3d02cf0",
   "metadata": {},
   "source": [
    "**Ans:**"
   ]
  },
  {
   "cell_type": "markdown",
   "id": "f5c72c8a",
   "metadata": {},
   "source": [
    "The best Machine Learning algorithm to allow a robot to walk in unknown terrain is **Reinforced Learning**, where the robot can learn from response of the terrain to optimize itself."
   ]
  },
  {
   "cell_type": "markdown",
   "id": "d22b98ab",
   "metadata": {},
   "source": [
    "**7. Which algorithm will you use to divide your customers into different groups?**"
   ]
  },
  {
   "cell_type": "markdown",
   "id": "ce6959f8",
   "metadata": {},
   "source": [
    "**Ans:**"
   ]
  },
  {
   "cell_type": "markdown",
   "id": "85d2aae8",
   "metadata": {},
   "source": [
    "k-means clustering algorithm"
   ]
  },
  {
   "cell_type": "markdown",
   "id": "2f8dd248",
   "metadata": {},
   "source": [
    "**8. Will you consider the problem of spam detection to be a supervised or unsupervised learning problem?**"
   ]
  },
  {
   "cell_type": "markdown",
   "id": "b94da911",
   "metadata": {},
   "source": [
    "**Ans:**"
   ]
  },
  {
   "cell_type": "markdown",
   "id": "c8118f76",
   "metadata": {},
   "source": [
    "The problem of spam detection is typically considered a **supervised learning** problem.\n",
    "\n",
    "In spam detection, we have a labeled dataset where each email is labeled as either \"spam\" or \"not spam\". This labeled dataset serves as the training data for a machine learning model. "
   ]
  },
  {
   "cell_type": "markdown",
   "id": "1710238f",
   "metadata": {},
   "source": [
    "**9. What is the concept of an online learning system?**"
   ]
  },
  {
   "cell_type": "markdown",
   "id": "94ab1230",
   "metadata": {},
   "source": [
    "**Ans:**"
   ]
  },
  {
   "cell_type": "markdown",
   "id": "67a3ab25",
   "metadata": {},
   "source": [
    "- The concept of an **online learning system** (also known as online machine learning or incremental learning) is a machine learning paradigm where a model continuously updates and adapts itself to new data as it becomes available. \n",
    "\n",
    "\n",
    "- In traditional batch learning, models are trained on a fixed dataset and then used for predictions. In contrast, online learning systems are designed to handle data streams and make real-time predictions."
   ]
  },
  {
   "cell_type": "markdown",
   "id": "0eb6acb8",
   "metadata": {},
   "source": [
    "**10. What is out-of-core learning, and how does it differ from core learning?**"
   ]
  },
  {
   "cell_type": "markdown",
   "id": "bdda065f",
   "metadata": {},
   "source": [
    "**Ans:**"
   ]
  },
  {
   "cell_type": "markdown",
   "id": "f230e82b",
   "metadata": {},
   "source": [
    "**Out-of-core learning:** \n",
    "\n",
    "This is a machine learning technique designed for handling very large datasets that do not fit entirely into the computer's main memory (RAM). In out-of-core learning, data is processed and learned from in smaller, manageable chunks or batches, rather than loading the entire dataset into memory. This approach is essential for working with big data when memory limitations are a concern."
   ]
  },
  {
   "cell_type": "markdown",
   "id": "cd66771f",
   "metadata": {},
   "source": [
    "In-core learning loads the entire dataset into memory, which may not be possible for very large datasets. Out-of-core is essential for big data scenarios but can be slower due to disk access."
   ]
  },
  {
   "cell_type": "markdown",
   "id": "774b84b5",
   "metadata": {},
   "source": [
    "**11. What kind of learning algorithm makes predictions using a similarity measure?**"
   ]
  },
  {
   "cell_type": "markdown",
   "id": "ca634e39",
   "metadata": {},
   "source": [
    "**Ans:**"
   ]
  },
  {
   "cell_type": "markdown",
   "id": "39c89aac",
   "metadata": {},
   "source": [
    "- Learning algorithms that make predictions using a **similarity measure** belong to the category of **Instance-Based Learning** or **Instance-Based Learning Algorithms**. \n",
    "\n",
    "\n",
    "- These algorithms don't explicitly build a model during training; instead, they memorize the entire training dataset. When making predictions for new data points, they find similar instances in the training data and use their labels or values as predictions for the new data.\n",
    "\n",
    "\n",
    "- The most common algorithm in this category is the **k-Nearest Neighbors (k-NN)** algorithm."
   ]
  },
  {
   "cell_type": "markdown",
   "id": "db9effa1",
   "metadata": {},
   "source": [
    "**12. What's the difference between a model parameter and a hyperparameter in a learning algorithm?**"
   ]
  },
  {
   "cell_type": "markdown",
   "id": "febce7e8",
   "metadata": {},
   "source": [
    "**Ans:**"
   ]
  },
  {
   "cell_type": "markdown",
   "id": "91645704",
   "metadata": {},
   "source": [
    "Model parameters are learned from data and define the model's behavior, while hyperparameters are set by the user and control aspects of the learning process. Hyperparameter tuning, often done through techniques like grid search or random search, is crucial for optimizing a machine learning model's performance on a specific task."
   ]
  },
  {
   "cell_type": "markdown",
   "id": "4eaba73c",
   "metadata": {},
   "source": [
    "**13.What are the criteria that model-based learning algorithms look for? What is the most popular method they use to achieve success? What method do they use to make predictions?**"
   ]
  },
  {
   "cell_type": "markdown",
   "id": "93754d18",
   "metadata": {},
   "source": [
    "**Ans:**"
   ]
  },
  {
   "cell_type": "markdown",
   "id": "d7447ad4",
   "metadata": {},
   "source": [
    "- Model based learning algorithm search for the optimal value of parameters in a model that will give the best results for the new instances. \n",
    "\n",
    "\n",
    "- We often use a cost function or similar to determine what the parameter value has to be in order to minimize the function. \n",
    "\n",
    "\n",
    "- The model makes prediction by using the value of the new instance and the parameters in its function."
   ]
  },
  {
   "cell_type": "markdown",
   "id": "c086b892",
   "metadata": {},
   "source": [
    "**14.Can you name four of the most important Machine Learning challenges?**"
   ]
  },
  {
   "cell_type": "markdown",
   "id": "9bd703c4",
   "metadata": {},
   "source": [
    "**Ans:**"
   ]
  },
  {
   "cell_type": "markdown",
   "id": "8e939e64",
   "metadata": {},
   "source": [
    "1. **Overfitting:** Using a model that's too complex can lead to overfitting, where it fits the training data perfectly but doesn't generalize well to new data.\n",
    "\n",
    "\n",
    "2. **Underfitting:** Using an overly simple model can result in underfitting, where the model can't capture the underlying patterns in the data.\n",
    "\n",
    "\n",
    "3. **Data Quantity and Quality:** The availability of sufficient and high-quality data is crucial for training accurate models. Insufficient or noisy data can hinder model performance.\n",
    "\n",
    "\n",
    "4. **Data Representativeness:** Ensuring that the training data is representative of the real-world scenarios the model will encounter is essential. Biased or non-representative data can lead to biased predictions."
   ]
  },
  {
   "cell_type": "markdown",
   "id": "c8fcf934",
   "metadata": {},
   "source": [
    "**15. What happens if the model performs well on the training data but fails to generalize the results to new situations? Can you think of three different options?**"
   ]
  },
  {
   "cell_type": "markdown",
   "id": "54fb2ebe",
   "metadata": {},
   "source": [
    "**Ans:**"
   ]
  },
  {
   "cell_type": "markdown",
   "id": "d974adc5",
   "metadata": {},
   "source": [
    "When a machine learning model performs well on the training data but fails to generalize to new situations, it indicates a problem with **overfitting**. Overfitting occurs when the model has learned the training data too closely, capturing noise and specific patterns that don't apply to new, unseen data. \n",
    "\n",
    "\n",
    "1. **Regularization:** Apply regularization techniques like L1 or L2 regularization to penalize overly complex models. This encourages the model to simplify by reducing the importance of certain features or parameters, making it less prone to overfitting.\n",
    "\n",
    "\n",
    "2. **More Data:** Increase the size of the training dataset. Having more diverse and representative data can help the model learn general patterns rather than memorizing specific examples. A larger dataset often makes overfitting less likely.\n",
    "\n",
    "\n",
    "3. **Feature Selection/Engineering:** Review and refine the features used for training. Feature selection can help remove irrelevant or noisy features, while feature engineering can create new informative features. This process can guide the model to focus on more relevant information."
   ]
  },
  {
   "cell_type": "markdown",
   "id": "53d5713a",
   "metadata": {},
   "source": [
    "**16.What exactly is a test set, and why would you need one?**"
   ]
  },
  {
   "cell_type": "markdown",
   "id": "af1b0e82",
   "metadata": {},
   "source": [
    "**Ans:**"
   ]
  },
  {
   "cell_type": "markdown",
   "id": "7e1f0473",
   "metadata": {},
   "source": [
    "**Test set**  is a separate batch of data that the model has never seen during training. We use it to check how well our model performs in the real world, ensuring it's not just memorizing answers but actually learning. \n",
    "\n",
    "\n",
    "It helps us choose the best model, avoid overconfidence, and make sure our model is ready for any challenge."
   ]
  },
  {
   "cell_type": "markdown",
   "id": "e4d2c32b",
   "metadata": {},
   "source": [
    "**17. What is a validation set's purpose?**"
   ]
  },
  {
   "cell_type": "markdown",
   "id": "0a366010",
   "metadata": {},
   "source": [
    "**Ans:**"
   ]
  },
  {
   "cell_type": "markdown",
   "id": "1fb3b1e9",
   "metadata": {},
   "source": [
    "A **validation set** is like a training assistant for your machine learning model. It helps you fine-tune the model's settings (hyperparameters) and prevents overfitting during training. It's crucial for optimizing the model's performance before the final test."
   ]
  },
  {
   "cell_type": "markdown",
   "id": "3e31cfed",
   "metadata": {},
   "source": [
    "**18. What precisely is the train-dev kit, when will you need it, how do you put it to use?**"
   ]
  },
  {
   "cell_type": "markdown",
   "id": "a6532386",
   "metadata": {},
   "source": [
    "**Ans:**"
   ]
  },
  {
   "cell_type": "markdown",
   "id": "86ae95c4",
   "metadata": {},
   "source": [
    "The **train-dev set** (training development set) is a subset of the training data used in the machine learning development process. Its primary purpose is to help detect and diagnose issues related to model overfitting and data mismatches early in the development cycle.\n",
    "\n",
    "\n",
    "**How to Use It:**\n",
    "1. **Splitting the Data:** Start by splitting your training data into three parts: the actual training set, the train-dev set, and the validation set. The training set is used to train the model, the train-dev set is used for intermediate evaluation and diagnosing overfitting, and the validation set is for final model evaluation.\n",
    "\n",
    "\n",
    "2. **Training and Monitoring:** Train your model on the training set and monitor its performance on the train-dev set during training. If you notice a significant gap in performance (e.g., much higher accuracy on the training set compared to the train-dev set), it's a sign of overfitting.\n",
    "\n",
    "\n",
    "3. **Overfitting Diagnosis:** Use the train-dev set to diagnose the overfitting issue. You can experiment with regularization techniques, adjust model complexity, or explore data augmentation to improve the model's generalization performance.\n",
    "\n",
    "\n",
    "4. **Fine-Tuning:** Based on your diagnosis, fine-tune the model and repeat the training process, continually monitoring the performance on both the training and train-dev sets until you achieve a more balanced model that generalizes well."
   ]
  },
  {
   "cell_type": "markdown",
   "id": "072e198b",
   "metadata": {},
   "source": [
    "**19. What could go wrong if you use the test set to tune hyperparameters?**"
   ]
  },
  {
   "cell_type": "markdown",
   "id": "5374d07d",
   "metadata": {},
   "source": [
    "**Ans:**"
   ]
  },
  {
   "cell_type": "markdown",
   "id": "148df73f",
   "metadata": {},
   "source": [
    "Using the test set for hyperparameter tuning can lead to overfitting, leakage of test set information, and misleading performance estimates. To avoid these issues, keep the test set separate and only use it for the final evaluation. We can use a validation set for hyperparameter tuning instead."
   ]
  },
  {
   "cell_type": "code",
   "execution_count": null,
   "id": "cec5bae2",
   "metadata": {},
   "outputs": [],
   "source": []
  }
 ],
 "metadata": {
  "kernelspec": {
   "display_name": "Python 3 (ipykernel)",
   "language": "python",
   "name": "python3"
  },
  "language_info": {
   "codemirror_mode": {
    "name": "ipython",
    "version": 3
   },
   "file_extension": ".py",
   "mimetype": "text/x-python",
   "name": "python",
   "nbconvert_exporter": "python",
   "pygments_lexer": "ipython3",
   "version": "3.9.7"
  }
 },
 "nbformat": 4,
 "nbformat_minor": 5
}
