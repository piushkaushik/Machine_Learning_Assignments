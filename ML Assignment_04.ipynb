{
 "cells": [
  {
   "cell_type": "markdown",
   "id": "9564aa42",
   "metadata": {},
   "source": [
    "## 1. What are the key tasks involved in getting ready to work with machine learning modeling?"
   ]
  },
  {
   "cell_type": "markdown",
   "id": "e3b922a3",
   "metadata": {},
   "source": [
    "**Ans:**"
   ]
  },
  {
   "cell_type": "markdown",
   "id": "bd791597",
   "metadata": {},
   "source": [
    "1. **Data Collection:**\n",
    "   - Gather the relevant data for your problem. This can involve acquiring data from various sources, such as databases, APIs, or manual data entry.\n",
    "\n",
    "2. **Data Preparation:**\n",
    "   - The process involves cleaning and preparing data by removing duplicates, correcting errors, handling missing values, and ensuring consistency. Randomizing data eliminates collection order effects. Visualizations help uncover relationships and biases. Finally, data is split into training and evaluation sets for model testing.\n",
    "\n",
    "3. **Choose a Model:**\n",
    "   - Choose the appropriate machine learning algorithm(s) based on the problem type (classification, regression, clustering, etc.) and the nature of the data.\n",
    "   \n",
    "4. **Train the Model:**\n",
    "   - Train the selected model(s) on the training data. This step involves finding the optimal parameters or weights that minimize the model's error.\n",
    "   \n",
    "5. **Evaluate the Model:**\n",
    "   - Evaluate the model's performance using appropriate evaluation metrics (e.g., accuracy, F1 score, RMSE) on the validation set. This step helps in fine-tuning the model.\n",
    "\n",
    "6. **Parameter Tuning:**\n",
    "   - Tune model parameters for improved performance.\n",
    "   \n",
    "7. **Make Predictions:**\n",
    "   - In the end, you can use your model on unseen data to make predictions accurately.\n"
   ]
  },
  {
   "cell_type": "markdown",
   "id": "554157e9",
   "metadata": {},
   "source": [
    "## 2. What are the different forms of data used in machine learning? Give a specific example for each of them."
   ]
  },
  {
   "cell_type": "markdown",
   "id": "3bfa9749",
   "metadata": {},
   "source": [
    "**Ans:**"
   ]
  },
  {
   "cell_type": "markdown",
   "id": "6949ffda",
   "metadata": {},
   "source": [
    "1. **Numerical Data:**\n",
    "   - *Examples:* Temperature readings, Age, Stock prices, Income\n",
    "   - *Description:* Numerical data consists of quantitative values that can be measured or counted. It includes both continuous data (e.g., temperature) and discrete data (e.g., age).\n",
    "\n",
    "2. **Categorical Data:**\n",
    "   - *Examples:* Color (Red, Blue, Green), Gender (Male, Female), Product Categories\n",
    "   - *Description:* Categorical data represents distinct categories or labels. It is often used for classifying or grouping data based on attributes.\n",
    "\n",
    "3. **Time-Series Data:**\n",
    "   - *Examples:* Stock price history, Sensor readings over time, Weather data\n",
    "   - *Description:* Time series data is collected at regular intervals and ordered by time. It's used for forecasting and trend analysis.\n",
    "\n",
    "4. **Text Data:**\n",
    "   - *Examples:* Text documents, Social media posts, Customer reviews\n",
    "   - *Description:* Text data includes unstructured text, such as documents, articles, or messages. Natural Language Processing (NLP) techniques are used to process and analyze text data.\n",
    "\n",
    "These four data types are foundational and cover a broad spectrum of information that machine learning models can be applied to."
   ]
  },
  {
   "cell_type": "markdown",
   "id": "d997c66f",
   "metadata": {},
   "source": [
    "## 3. Distinguish:\n",
    "### 1. Numeric vs. categorical attributes\n",
    "### 2. Feature selection vs. dimensionality reduction"
   ]
  },
  {
   "cell_type": "markdown",
   "id": "7842bd1e",
   "metadata": {},
   "source": [
    "**Ans:**"
   ]
  },
  {
   "cell_type": "markdown",
   "id": "783ae6cd",
   "metadata": {},
   "source": [
    "**Numeric vs. Categorical Attributes:**\n",
    "1. *Numeric Attributes:*\n",
    "   - Numeric attributes are variables that represent measurable quantities.\n",
    "   - They can take on numerical values and are often used for calculations.\n",
    "   - Examples include age, temperature, salary, or weight.\n",
    "\n",
    "2. *Categorical Attributes:*\n",
    "   - Categorical attributes are variables that represent categories or labels.\n",
    "   - They consist of discrete values that represent different classes or groups.\n",
    "   - Examples include color (red, blue, green), gender (male, female), or product categories.\n",
    "\n",
    "**Feature Selection vs. Dimensionality Reduction:**\n",
    "1. *Feature Selection:*\n",
    "   - Feature selection is the process of choosing a subset of the most relevant features (attributes) from the original dataset.\n",
    "   - It aims to improve model performance, reduce overfitting, and decrease training time.\n",
    "   - Feature selection methods include filter methods (based on statistical tests), wrapper methods (using the model's performance), and embedded methods (features are selected during model training).\n",
    "\n",
    "2. *Dimensionality Reduction:*\n",
    "   - Dimensionality reduction is the process of reducing the number of features while retaining the most important information.\n",
    "   - It is often used to address the curse of dimensionality, simplify models, and speed up computation.\n",
    "   - Principal Component Analysis (PCA) and t-Distributed Stochastic Neighbor Embedding (t-SNE) are common dimensionality reduction techniques.\n"
   ]
  },
  {
   "cell_type": "markdown",
   "id": "146bf3a8",
   "metadata": {},
   "source": [
    "- **Numeric attributes deal with measurable quantities, while categorical attributes represent categories.**\n",
    "\n",
    "- **Feature selection focuses on choosing relevant features, while dimensionality reduction is about reducing the number of features while preserving data patterns.**"
   ]
  },
  {
   "cell_type": "markdown",
   "id": "9ee9fc27",
   "metadata": {},
   "source": [
    "## 4. Make quick notes on any two of the following:\n",
    "### 1. The histogram\n",
    "### 2. Use a scatter plot\n",
    "### 3. PCA (Personal Computer Aid)"
   ]
  },
  {
   "cell_type": "markdown",
   "id": "2b68ee43",
   "metadata": {},
   "source": [
    "**Ans:**"
   ]
  },
  {
   "cell_type": "markdown",
   "id": "b0004e74",
   "metadata": {},
   "source": [
    "Certainly, here are quick notes on the histogram and scatter plot:\n",
    "\n",
    "**1. The Histogram:**\n",
    "- A histogram is a graphical representation of the distribution of a dataset.\n",
    "- It's commonly used to visualize the frequency or count of data points within specific intervals or bins.\n",
    "- It's particularly useful for understanding the data's central tendency, spread, and shape.\n",
    "- Histograms are essential for identifying patterns and outliers within data.\n",
    "- The x-axis represents the data's values, and the y-axis represents the frequency or count of data points in each bin."
   ]
  },
  {
   "cell_type": "markdown",
   "id": "8d0c169b",
   "metadata": {},
   "source": [
    "#### Example:"
   ]
  },
  {
   "cell_type": "code",
   "execution_count": 1,
   "id": "dd7c289d",
   "metadata": {},
   "outputs": [
    {
     "data": {
      "image/png": "[encoded data removed]",
      "text/plain": [
       "<Figure size 432x288 with 1 Axes>"
      ]
     },
     "metadata": {
      "needs_background": "light"
     },
     "output_type": "display_data"
    }
   ],
   "source": [
    "import matplotlib.pyplot as plt\n",
    "\n",
    "# Sample data\n",
    "data = [1, 2, 2, 3, 3, 3, 4, 4, 5, 5, 5, 5, 6, 6, 6]\n",
    "\n",
    "# Create a histogram\n",
    "plt.hist(data, bins=6, edgecolor='k', alpha=0.7)\n",
    "plt.xlabel('Value')\n",
    "plt.ylabel('Frequency')\n",
    "plt.title('Histogram Example')\n",
    "plt.show()"
   ]
  },
  {
   "cell_type": "markdown",
   "id": "5159d6c0",
   "metadata": {},
   "source": [
    "**2. Scatter Plot:**\n",
    "- A scatter plot is a two-dimensional data visualization technique used to display the relationship between two continuous variables.\n",
    "- It consists of points or dots, each representing an individual data point, plotted on a Cartesian plane.\n",
    "- Scatter plots are valuable for identifying patterns, correlations, and potential outliers in data.\n",
    "- They help in visualizing how one variable's values change concerning another.\n",
    "- Scatter plots are commonly used in exploratory data analysis and regression analysis to assess relationships between variables."
   ]
  },
  {
   "cell_type": "markdown",
   "id": "b51b0646",
   "metadata": {},
   "source": [
    "#### Example:"
   ]
  },
  {
   "cell_type": "code",
   "execution_count": 2,
   "id": "c9cb98d9",
   "metadata": {},
   "outputs": [
    {
     "data": {
      "image/png": "[encoded data removed]",
      "text/plain": [
       "<Figure size 432x288 with 1 Axes>"
      ]
     },
     "metadata": {
      "needs_background": "light"
     },
     "output_type": "display_data"
    }
   ],
   "source": [
    "import matplotlib.pyplot as plt\n",
    "\n",
    "# Sample data for x and y\n",
    "x = [1, 2, 3, 4, 5, 6, 7, 8, 9, 10]\n",
    "y = [3, 5, 7, 8, 11, 14, 15, 19, 20, 22]\n",
    "\n",
    "# Create a scatter plot\n",
    "plt.scatter(x, y, color='blue', marker='o', label='Data Points')\n",
    "plt.xlabel('X-axis')\n",
    "plt.ylabel('Y-axis')\n",
    "plt.title('Scatter Plot Example')\n",
    "plt.legend()\n",
    "plt.show()"
   ]
  },
  {
   "cell_type": "markdown",
   "id": "6ea8f553",
   "metadata": {},
   "source": [
    "## 5. Why is it necessary to investigate data? Is there a discrepancy in how qualitative and quantitative data are explored?"
   ]
  },
  {
   "cell_type": "markdown",
   "id": "35018cba",
   "metadata": {},
   "source": [
    "**Ans:**"
   ]
  },
  {
   "cell_type": "markdown",
   "id": "f6f152d7",
   "metadata": {},
   "source": [
    "#### Necessity of data investigation:\n",
    "\n",
    "Investigating data, whether qualitative or quantitative, is a fundamental step in the data analysis process. It serves several purposes:\n",
    "\n",
    "1. **Understanding the Data:** Data investigation helps you gain a deeper understanding of the dataset, including its structure, content, and characteristics. It's essential to know what you're working with before performing any analysis.\n",
    "\n",
    "2. **Identifying Data Quality Issues:** Data investigation helps in identifying and addressing data quality issues such as missing values, outliers, errors, and inconsistencies. This is critical for ensuring the reliability of the analysis.\n",
    "\n",
    "3. **Exploratory Data Analysis (EDA):** EDA involves exploring data to discover patterns, relationships, and insights. It helps in formulating hypotheses and selecting appropriate modeling techniques.\n",
    "\n",
    "4. **Feature Selection:** In the case of machine learning and statistical modeling, data investigation can guide the selection of relevant features or variables for modeling."
   ]
  },
  {
   "cell_type": "markdown",
   "id": "0b6267fc",
   "metadata": {},
   "source": [
    "#### Discrepancy between qualitative and quantitative data exploration:\n",
    "\n",
    "- **Qualitative Data:** Qualitative data, such as text or categorical data, may require different exploration techniques compared to quantitative data. For example, text data might involve natural language processing techniques like sentiment analysis or topic modeling. Categorical data might involve visualizing the frequency of different categories using bar charts.\n",
    "\n",
    "- **Quantitative Data:** Quantitative data, such as numerical data, often involves statistical measures like mean, median, and standard deviation. Visualization techniques like histograms, box plots, and scatter plots are commonly used to explore numerical data.\n"
   ]
  },
  {
   "cell_type": "markdown",
   "id": "10b857ed",
   "metadata": {},
   "source": [
    "## 6. What are the various histogram shapes? What exactly are ‘bins'?"
   ]
  },
  {
   "cell_type": "markdown",
   "id": "5236fad3",
   "metadata": {},
   "source": [
    "**Ans:**"
   ]
  },
  {
   "cell_type": "markdown",
   "id": "1f4607dc",
   "metadata": {},
   "source": [
    "1. **Uniform Histogram:**\n",
    "   - **Explanation:** A uniform histogram indicates that data is uniformly distributed, meaning all values have approximately the same frequency, and there is no clear peak or skew.\n",
    "   \n",
    "   \n",
    "#### Example:"
   ]
  },
  {
   "cell_type": "code",
   "execution_count": 7,
   "id": "3efe4dd7",
   "metadata": {},
   "outputs": [
    {
     "data": {
      "image/png": "[encoded data removed]",
      "text/plain": [
       "<Figure size 432x288 with 1 Axes>"
      ]
     },
     "metadata": {
      "needs_background": "light"
     },
     "output_type": "display_data"
    }
   ],
   "source": [
    "import numpy as np\n",
    "\n",
    "# Generate example data for a uniform histogram\n",
    "data_uniform = np.random.rand(1000)\n",
    "# Create a uniform histogram with 10 bins\n",
    "plt.hist(data_uniform, bins=10, color='skyblue', edgecolor='black')\n",
    "plt.title('Uniform Histogram')\n",
    "plt.xlabel('Value')\n",
    "plt.ylabel('Frequency')\n",
    "plt.show()"
   ]
  },
  {
   "cell_type": "markdown",
   "id": "74583c76",
   "metadata": {},
   "source": [
    "2. **Symmetric Histogram (Normal Distribution):**\n",
    "   - **Explanation:** A symmetric histogram represents a normal distribution, where data is symmetrically distributed around the mean, forming a bell-shaped curve.\n",
    "   \n",
    "   \n",
    "#### Example:"
   ]
  },
  {
   "cell_type": "code",
   "execution_count": 4,
   "id": "f812637f",
   "metadata": {},
   "outputs": [
    {
     "data": {
      "image/png": "[encoded data removed]",
      "text/plain": [
       "<Figure size 432x288 with 1 Axes>"
      ]
     },
     "metadata": {
      "needs_background": "light"
     },
     "output_type": "display_data"
    }
   ],
   "source": [
    "# Generate example data for a symmetric histogram (normal distribution)\n",
    "data_normal = np.random.normal(0, 1, 1000)\n",
    "\n",
    "# Create a histogram with automatic bin calculation\n",
    "plt.hist(data_normal, color='salmon', edgecolor='black')\n",
    "plt.title('Symmetric Histogram (Normal Distribution)')\n",
    "plt.xlabel('Value')\n",
    "plt.ylabel('Frequency')\n",
    "plt.show()"
   ]
  },
  {
   "cell_type": "markdown",
   "id": "36292d23",
   "metadata": {},
   "source": [
    "3. **Bimodal Histogram:**\n",
    "   - **Explanation:** A bimodal histogram has two distinct peaks, indicating that the data may come from two different populations or processes.\n",
    "   \n",
    "   \n",
    "#### Example:"
   ]
  },
  {
   "cell_type": "code",
   "execution_count": 5,
   "id": "cd959165",
   "metadata": {},
   "outputs": [
    {
     "data": {
      "image/png": "[encoded data removed]",
      "text/plain": [
       "<Figure size 432x288 with 1 Axes>"
      ]
     },
     "metadata": {
      "needs_background": "light"
     },
     "output_type": "display_data"
    }
   ],
   "source": [
    "# Generate example data for a bimodal histogram\n",
    "data_bimodal = np.concatenate([np.random.normal(-2, 1, 500), np.random.normal(2, 1, 500)])\n",
    "\n",
    "# Create a histogram with automatic bin calculation\n",
    "plt.hist(data_bimodal, color='lightgreen', edgecolor='black')\n",
    "plt.title('Bimodal Histogram')\n",
    "plt.xlabel('Value')\n",
    "plt.ylabel('Frequency')\n",
    "plt.show()"
   ]
  },
  {
   "cell_type": "markdown",
   "id": "86059ec1",
   "metadata": {},
   "source": [
    "4. **Probability Histogram:**\n",
    "\n",
    "   - **Explanation:** A Probability Histogram shows a pictorial representation of a discrete probability distribution. It consists of a rectangle centered on every value of x, and the area of each rectangle is proportional to the probability of the corresponding value. The probability histogram diagram is begun by selecting the classes. The probabilities of each outcome are the heights of the bars of the histogram."
   ]
  },
  {
   "cell_type": "code",
   "execution_count": 6,
   "id": "f8cc057e",
   "metadata": {},
   "outputs": [
    {
     "data": {
      "image/png": "[encoded data removed]",
      "text/plain": [
       "<Figure size 432x288 with 1 Axes>"
      ]
     },
     "metadata": {
      "needs_background": "light"
     },
     "output_type": "display_data"
    }
   ],
   "source": [
    "data_prob = np.random.normal(0, 1, 1000)\n",
    "# Create a probability histogram with defined bins and normalized to show probabilities\n",
    "plt.hist(data_prob, bins=20, density=True, color='lightblue', edgecolor='black')\n",
    "plt.title('Probability Histogram')\n",
    "plt.xlabel('Value')\n",
    "plt.ylabel('Probability')\n",
    "plt.show()"
   ]
  },
  {
   "cell_type": "markdown",
   "id": "416e7485",
   "metadata": {},
   "source": [
    "#### Bins:\n",
    "\n",
    "\"Bins\" in a histogram refer to the intervals into which the data is divided for the purpose of constructing the histogram. The x-axis of a histogram represents the range of values in the dataset, and it is divided into a set of bins. Each bin represents a specific range of values, and the y-axis represents the frequency or count of data points falling into each bin.\n",
    "\n",
    "The choice of the number of bins can impact the appearance of the histogram. Too few bins may oversimplify the distribution, while too many bins may create excessive noise. Selecting an appropriate number of bins is an important aspect of creating an informative and interpretable histogram."
   ]
  },
  {
   "cell_type": "markdown",
   "id": "5012f470",
   "metadata": {},
   "source": [
    "## 7. How do we deal with data outliers?"
   ]
  },
  {
   "cell_type": "markdown",
   "id": "4b75d382",
   "metadata": {},
   "source": [
    "**Ans:**"
   ]
  },
  {
   "cell_type": "markdown",
   "id": "7e9b697c",
   "metadata": {},
   "source": [
    "Dealing with data outliers is an essential part of the data preprocessing phase in machine learning and data analysis. Outliers can significantly impact the performance of machine learning models and distort the results of data analysis. Here are common approaches to deal with data outliers:\n",
    "\n",
    "1. **Identify and Understand Outliers:**\n",
    "   - The first step is to identify and understand the outliers in your dataset. Visualization techniques, such as box plots, histograms, and scatter plots, can help you visualize and identify outliers.\n",
    "\n",
    "2. **Imputation:**\n",
    "   - In some cases, you may choose to impute outliers with more typical values. Imputing means replacing the outlier with a reasonable value, such as the mean, median, or a specific threshold value. This approach is often used when outliers are the result of data entry errors or missing data.\n",
    "\n",
    "3. **Data Transformation:**\n",
    "   - Transformation techniques can be used to make the data more suitable for modeling. Common transformations include taking the logarithm, square root, or inverse of the data. These transformations can make the data distribution more normal and reduce the impact of outliers.\n",
    "\n",
    "4. **Capping or Flooring:**\n",
    "   - Capping involves setting a threshold value beyond which any data point is considered an outlier and is replaced with that threshold value. For example, you might set a threshold of 3 standard deviations from the mean and cap any data point beyond that.\n",
    "   - Flooring is the opposite of capping and involves setting a lower threshold value for extremely small data points.\n",
    "\n",
    "5. **Removing Outliers:**\n",
    "   - In some cases, it may be appropriate to remove outliers from the dataset. This should be done with caution, as it can result in a loss of information. Removing outliers is more common in cases where the outliers are due to data entry errors or measurement errors.\n",
    "   - It's important to note that removing too many outliers may lead to overfitting, where the model fits the remaining data too closely.\n",
    "\n",
    "6. **Robust Models:**\n",
    "   - Another approach is to use machine learning models that are robust to outliers. Some algorithms, like Random Forests or Support Vector Machines, are less sensitive to outliers by design."
   ]
  },
  {
   "cell_type": "markdown",
   "id": "f263698c",
   "metadata": {},
   "source": [
    "## 8. What are the various central inclination measures? Why does mean vary too much from median in certain data sets?"
   ]
  },
  {
   "cell_type": "markdown",
   "id": "6a737355",
   "metadata": {},
   "source": [
    "**Ans:**"
   ]
  },
  {
   "cell_type": "markdown",
   "id": "189ca041",
   "metadata": {},
   "source": [
    "Central tendency measures are used to describe the center or average value of a dataset. The two most common central tendency measures are the **mean** and the **median**. There are other measures as well, such as the mode and the geometric mean. These measures can help us understand the typical or central value in a dataset.\n",
    "\n",
    "1. **Mean (Average):** The mean is the sum of all values in a dataset divided by the number of values. It's calculated as:\n",
    "\n",
    "   $$\\text{Mean} = \\frac{\\sum \\text{values}}{\\text{number of values}}$$\n",
    "\n",
    "\n",
    "\n",
    "2. **Median:** The median is the middle value of a dataset when the values are arranged in order. If there's an even number of values, the median is the average of the two middle values.\n",
    "\n",
    "3. **Mode:** The mode is the value that appears most frequently in a dataset. A dataset can have one mode (unimodal), more than one mode (multimodal), or no mode at all.\n",
    "\n",
    "4. **Geometric Mean:** The geometric mean is used for datasets with a multiplicative structure, such as growth rates. It's calculated as the nth root of the product of n values."
   ]
  },
  {
   "cell_type": "markdown",
   "id": "e0f07087",
   "metadata": {},
   "source": [
    "#### Why Does the Mean Vary from the Median?\n",
    "\n",
    "- The mean and median can differ significantly in datasets with skewed distributions. Skewness refers to the asymmetry in the dataset. In positively skewed distributions, where the tail is on the right side, the mean is typically greater than the median. In negatively skewed distributions, where the tail is on the left side, the mean is usually less than the median.\n",
    "\n",
    "- Outliers or extreme values in the dataset can also heavily influence the mean. If you have a dataset with extreme values (outliers), they can pull the mean in their direction.\n",
    "\n",
    "- The mean is sensitive to extreme values, while the median is resistant to outliers. This makes the median a more robust measure of central tendency when dealing with skewed data or data containing outliers.\n",
    "\n",
    "The mean is commonly used for symmetric datasets, while the median is preferred for skewed datasets or datasets with outliers. It's important to understand the characteristics of your data before deciding which measure to use."
   ]
  },
  {
   "cell_type": "markdown",
   "id": "ccace5e2",
   "metadata": {},
   "source": [
    "## 9. Describe how a scatter plot can be used to investigate bivariate relationships. Is it possible to find outliers using a scatter plot?"
   ]
  },
  {
   "cell_type": "markdown",
   "id": "a429487a",
   "metadata": {},
   "source": [
    "**Ans:**"
   ]
  },
  {
   "cell_type": "markdown",
   "id": "35b2867f",
   "metadata": {},
   "source": [
    "A scatter plot is a graphical representation of bivariate data, which means data involving two variables. It consists of points or dots, each representing an observation, with one variable on the x-axis and the other variable on the y-axis. Scatter plots are used to investigate the relationship between two variables and to identify patterns or trends in the data. \n",
    "\n",
    "Scatter plots are a valuable tool for exploring and visualizing relationships between two variables. They provide insights into correlation, help detect outliers, and reveal data patterns. While they are excellent for these purposes, keep in mind that scatter plots are most effective for bivariate relationships."
   ]
  },
  {
   "cell_type": "markdown",
   "id": "b0009c28",
   "metadata": {},
   "source": [
    "#### Is it possible to find outliers using a scatter plot?\n",
    "\n",
    "Yes, it is possible to find outliers using a scatter plot. In fact, scatter plots are one of the most effective and intuitive tools for identifying outliers in your data. Outliers are data points that significantly deviate from the main cluster of data points. When examining a scatter plot, outliers often appear as points that are far removed from the general trend or pattern formed by the majority of the data."
   ]
  },
  {
   "cell_type": "markdown",
   "id": "ce76230f",
   "metadata": {},
   "source": [
    "#### Example:\n",
    "\n",
    "In this example, we have created a scatter plot with some obvious outliers. The point at (7, 50) is significantly distant from the main cluster of points. We can visually identify it as an outlier."
   ]
  },
  {
   "cell_type": "code",
   "execution_count": 8,
   "id": "09f8ed89",
   "metadata": {},
   "outputs": [
    {
     "data": {
      "image/png": "[encoded data removed]",
      "text/plain": [
       "<Figure size 432x288 with 1 Axes>"
      ]
     },
     "metadata": {
      "needs_background": "light"
     },
     "output_type": "display_data"
    }
   ],
   "source": [
    "# Sample data with outliers\n",
    "x = [1, 2, 3, 4, 5, 6, 7, 8, 9, 10, 11]\n",
    "y = [2, 4, 6, 8, 10, 12, 50, 14, 16, 18, 20]\n",
    "\n",
    "# Create a scatter plot\n",
    "plt.scatter(x, y, label='Data Points', color='b', marker='o')\n",
    "\n",
    "# Set labels and title\n",
    "plt.xlabel('X-axis')\n",
    "plt.ylabel('Y-axis')\n",
    "plt.title('Scatter Plot with Outliers')\n",
    "\n",
    "plt.legend()\n",
    "plt.show()"
   ]
  },
  {
   "cell_type": "markdown",
   "id": "1e57a7dd",
   "metadata": {},
   "source": [
    "## 10. Describe how cross-tabs can be used to figure out how two variables are related."
   ]
  },
  {
   "cell_type": "markdown",
   "id": "605d8f8a",
   "metadata": {},
   "source": [
    "**Ans:**"
   ]
  },
  {
   "cell_type": "markdown",
   "id": "5615a0f3",
   "metadata": {},
   "source": [
    "Cross-tabulation, often referred to as a cross-tab or crosstab, is a useful technique to analyze and understand the relationship between two categorical variables. It creates a contingency table that shows how the two variables are related by displaying their joint distribution. It is a common method used in descriptive statistics and can reveal insights into associations between variables. Here's how it works:\n",
    "\n",
    "1. **Create a Contingency Table:**\n",
    "   - Identify the two categorical variables you want to analyze. For example, let's consider \"Gender\" and \"Product Preference.\"\n",
    "\n",
    "2. **Count the Occurrences:**\n",
    "   - Create a table with rows representing one variable (e.g., Gender: Male, Female) and columns representing the other variable (e.g., Product Preference: A, B, C).\n",
    "   - In each cell, count how many observations fall into that category. For example, count how many males prefer Product A, how many females prefer Product A, and so on.\n",
    "\n",
    "3. **Analyze the Relationship:**\n",
    "   - Examine the resulting table. It will show you the distribution of the two variables. You can see how many people in each gender group prefer each product.\n",
    "   - You can calculate percentages or proportions to understand the relative preference within each group.\n",
    "\n",
    "4. **Interpret the Results:**\n",
    "   - Cross-tabs help you understand if there is an association or dependency between the two variables.\n",
    "   - You can look for patterns or differences. For instance, you might observe that a higher percentage of females prefer Product A compared to males.\n"
   ]
  },
  {
   "cell_type": "markdown",
   "id": "1efd2c2e",
   "metadata": {},
   "source": [
    "#### Example:\n",
    "\n",
    "In this example, we'll examine the relationship between \"Gender\" and \"Product Preference\" for a group of people."
   ]
  },
  {
   "cell_type": "code",
   "execution_count": 10,
   "id": "91585de6",
   "metadata": {},
   "outputs": [],
   "source": [
    "import pandas as pd\n",
    "\n",
    "# Create a sample dataset\n",
    "data = {\n",
    "    'Gender': ['Male', 'Female', 'Male', 'Male', 'Female', 'Female', 'Male', 'Female'],\n",
    "    'Product_Preference': ['A', 'B', 'A', 'B', 'A', 'C', 'B', 'C']\n",
    "}"
   ]
  },
  {
   "cell_type": "code",
   "execution_count": 18,
   "id": "457d3329",
   "metadata": {},
   "outputs": [
    {
     "data": {
      "text/html": [
       "<div>\n",
       "<style scoped>\n",
       "    .dataframe tbody tr th:only-of-type {\n",
       "        vertical-align: middle;\n",
       "    }\n",
       "\n",
       "    .dataframe tbody tr th {\n",
       "        vertical-align: top;\n",
       "    }\n",
       "\n",
       "    .dataframe thead th {\n",
       "        text-align: right;\n",
       "    }\n",
       "</style>\n",
       "<table border=\"1\" class=\"dataframe\">\n",
       "  <thead>\n",
       "    <tr style=\"text-align: right;\">\n",
       "      <th></th>\n",
       "      <th>Gender</th>\n",
       "      <th>Product_Preference</th>\n",
       "    </tr>\n",
       "  </thead>\n",
       "  <tbody>\n",
       "    <tr>\n",
       "      <th>0</th>\n",
       "      <td>Male</td>\n",
       "      <td>A</td>\n",
       "    </tr>\n",
       "    <tr>\n",
       "      <th>1</th>\n",
       "      <td>Female</td>\n",
       "      <td>B</td>\n",
       "    </tr>\n",
       "    <tr>\n",
       "      <th>2</th>\n",
       "      <td>Male</td>\n",
       "      <td>A</td>\n",
       "    </tr>\n",
       "    <tr>\n",
       "      <th>3</th>\n",
       "      <td>Male</td>\n",
       "      <td>B</td>\n",
       "    </tr>\n",
       "    <tr>\n",
       "      <th>4</th>\n",
       "      <td>Female</td>\n",
       "      <td>A</td>\n",
       "    </tr>\n",
       "    <tr>\n",
       "      <th>5</th>\n",
       "      <td>Female</td>\n",
       "      <td>C</td>\n",
       "    </tr>\n",
       "    <tr>\n",
       "      <th>6</th>\n",
       "      <td>Male</td>\n",
       "      <td>B</td>\n",
       "    </tr>\n",
       "    <tr>\n",
       "      <th>7</th>\n",
       "      <td>Female</td>\n",
       "      <td>C</td>\n",
       "    </tr>\n",
       "  </tbody>\n",
       "</table>\n",
       "</div>"
      ],
      "text/plain": [
       "   Gender Product_Preference\n",
       "0    Male                  A\n",
       "1  Female                  B\n",
       "2    Male                  A\n",
       "3    Male                  B\n",
       "4  Female                  A\n",
       "5  Female                  C\n",
       "6    Male                  B\n",
       "7  Female                  C"
      ]
     },
     "execution_count": 18,
     "metadata": {},
     "output_type": "execute_result"
    }
   ],
   "source": [
    "pd.DataFrame(data)"
   ]
  },
  {
   "cell_type": "code",
   "execution_count": 20,
   "id": "76dad7a3",
   "metadata": {},
   "outputs": [
    {
     "name": "stdout",
     "output_type": "stream",
     "text": [
      "Product_Preference  A  B  C\n",
      "Gender                     \n",
      "Female              1  1  2\n",
      "Male                2  2  0\n"
     ]
    }
   ],
   "source": [
    "# creating a cross-tabulation (contingency table) to examine the relationship between these variables\n",
    "\n",
    "cross_tab = pd.crosstab(df['Gender'], df['Product_Preference'])\n",
    "print(cross_tab)"
   ]
  },
  {
   "cell_type": "markdown",
   "id": "953cdca5",
   "metadata": {},
   "source": [
    "From this table, we can interpret that:\n",
    "\n",
    "- In the \"Female\" group, one person prefers Product A, no one prefers Product B, and two people prefer Product C.\n",
    "- In the \"Male\" group, two people prefer Product A, two people prefer Product B, and no one prefers Product C.\n",
    "\n",
    "This simple example illustrates how to create and interpret a contingency table to understand the relationship between categorical variables."
   ]
  },
  {
   "cell_type": "code",
   "execution_count": null,
   "id": "80009cc0",
   "metadata": {},
   "outputs": [],
   "source": []
  }
 ],
 "metadata": {
  "kernelspec": {
   "display_name": "Python 3 (ipykernel)",
   "language": "python",
   "name": "python3"
  },
  "language_info": {
   "codemirror_mode": {
    "name": "ipython",
    "version": 3
   },
   "file_extension": ".py",
   "mimetype": "text/x-python",
   "name": "python",
   "nbconvert_exporter": "python",
   "pygments_lexer": "ipython3",
   "version": "3.9.7"
  }
 },
 "nbformat": 4,
 "nbformat_minor": 5
}
