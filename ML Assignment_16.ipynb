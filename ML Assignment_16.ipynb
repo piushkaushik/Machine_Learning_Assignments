{
 "cells": [
  {
   "cell_type": "markdown",
   "id": "79a248c1",
   "metadata": {},
   "source": [
    "## 1. In a linear equation, what is the difference between a dependent variable and an independent variable?"
   ]
  },
  {
   "cell_type": "markdown",
   "id": "43ae0dc7",
   "metadata": {},
   "source": [
    "**Ans:**"
   ]
  },
  {
   "cell_type": "markdown",
   "id": "695a65a7",
   "metadata": {},
   "source": [
    "In a linear equation, the terms \"dependent variable\" and \"independent variable\" refer to specific variables that are part of the equation, and they serve different roles:\n",
    "\n",
    "1. **Independent Variable**:\n",
    "   - The independent variable, often denoted as \"x\" or \"X,\" is a variable that you can manipulate or control in an experiment or a mathematical model. It represents the input or the cause.\n",
    "   - In a linear equation, the independent variable is typically on the x-axis, and changes in its values are used to observe how they affect the dependent variable.\n",
    "   - For example, if you have a linear equation like \"y = 2x + 3,\" \"x\" is the independent variable. You can choose different values for \"x\" to see how they influence the value of \"y.\"\n",
    "\n",
    "2. **Dependent Variable**:\n",
    "   - The dependent variable, often denoted as \"y\" or \"Y,\" is the variable that you are interested in understanding or predicting. It represents the outcome or the effect, which depends on the values of the independent variable.\n",
    "   - In a linear equation, the dependent variable is typically on the y-axis, and it responds to changes in the independent variable.\n",
    "   - Using the same example equation \"y = 2x + 3,\" \"y\" is the dependent variable. Its value is determined by the value of \"x.\"\n",
    "\n",
    "**The independent variable is the input or the cause that you can control, while the dependent variable is the output or the effect that you are interested in studying. The relationship between them, as represented by a linear equation, helps you understand how changes in the independent variable affect the dependent variable.**"
   ]
  },
  {
   "cell_type": "markdown",
   "id": "48670d1e",
   "metadata": {},
   "source": [
    "## 2. What is the concept of simple linear regression? Give a specific example."
   ]
  },
  {
   "cell_type": "markdown",
   "id": "5aede0a2",
   "metadata": {},
   "source": [
    "**Ans:**"
   ]
  },
  {
   "attachments": {
    "image.png": {
     "image/png": "[encoded data removed]"
    }
   },
   "cell_type": "markdown",
   "id": "03a434f1",
   "metadata": {},
   "source": [
    "**Simple Linear Regression** is a statistical method used to model the relationship between a single independent variable (predictor) and a dependent variable (outcome). The goal is to find a linear equation that best describes how changes in the independent variable affect the dependent variable. The equation for simple linear regression is typically written as:\n",
    "\n",
    "$$Y = \\beta_0 + \\beta_1X + \\varepsilon$$\n",
    "\n",
    "Where:\n",
    "- $Y$ is the dependent variable.\n",
    "- $X$ is the independent variable.\n",
    "- $\\beta_0$ is the intercept, the value of $Y$ when $X$ is 0.\n",
    "- $\\beta_1$ is the slope, representing how much $Y$ changes for a one-unit change in $X$.\n",
    "- $\\varepsilon$ is the error term, representing the variability not explained by the model.\n",
    "\n",
    "Here's a specific example of simple linear regression:\n",
    "\n",
    "**Example: Predicting Exam Scores**\n",
    "\n",
    "Suppose you want to predict students' exam scores based on the number of hours they study. You believe there's a linear relationship between the number of study hours $X$ and the exam score $Y$.\n",
    "\n",
    "You collect data from 20 students, recording their study hours and corresponding exam scores:\n",
    "\n",
    "\n",
    "![image.png](attachment:image.png)\n",
    "\n",
    "Using this data, you can perform a simple linear regression analysis to find the equation that best fits the relationship:\n",
    "\n",
    "$$Y = \\beta_0 + \\beta_1X$$\n",
    "\n",
    "The goal is to find the values of $\\beta_0$ and $\\beta_1$ that minimize the sum of squared differences between the predicted scores and the actual scores. Once you've found the best-fitting line, you can use it to predict a student's exam score based on the number of hours they study.\n",
    "\n",
    "Simple linear regression is widely used in various fields, including economics, finance, and social sciences, to explore and quantify relationships between variables."
   ]
  },
  {
   "cell_type": "markdown",
   "id": "42eaa936",
   "metadata": {},
   "source": [
    "## 3. In a linear regression, define the slope."
   ]
  },
  {
   "cell_type": "markdown",
   "id": "5d5a6594",
   "metadata": {},
   "source": [
    "**Ans:**"
   ]
  },
  {
   "cell_type": "markdown",
   "id": "b191faff",
   "metadata": {},
   "source": [
    "In linear regression, the **slope** (often denoted as $\\beta_1$ represents the rate of change or the impact of the independent variable (predictor) on the dependent variable (outcome). It quantifies how much the dependent variable is expected to change for a one-unit increase in the independent variable, assuming all other factors are held constant."
   ]
  },
  {
   "cell_type": "markdown",
   "id": "3def83bd",
   "metadata": {},
   "source": [
    "The slope $\\beta_1$ in linear regression is defined by the following mathematical formula:\n",
    "\n",
    "$$\\beta_1 = \\frac{\\sum_{i=1}^{n} (X_i - \\bar{X})(Y_i - \\bar{Y})}{\\sum_{i=1}^{n} (X_i - \\bar{X})^2}$$\n",
    "\n",
    "Where:\n",
    "- $n$ is the number of data points.\n",
    "- $X_i$ and $Y_i$ are the individual data points of the independent variable and dependent variable, respectively.\n",
    "- $\\bar{X}$ and $\\bar{Y}$ are the mean (average) values of the independent variable and dependent variable, respectively."
   ]
  },
  {
   "cell_type": "markdown",
   "id": "772a4723",
   "metadata": {},
   "source": [
    "## 4. Determine the graph&#39;s slope, where the lower point on the line is represented as (3, 2) and the higher point is represented as (2, 2)."
   ]
  },
  {
   "cell_type": "markdown",
   "id": "d48adce1",
   "metadata": {},
   "source": [
    "**Ans:**"
   ]
  },
  {
   "cell_type": "markdown",
   "id": "8f28d957",
   "metadata": {},
   "source": [
    "In this case, it seems that the two points you've provided lie on a vertical line. Since the x-coordinates of both points are the same (3 and 2), the line connecting these points is vertical, and it doesn't have a traditional slope (which is typically expressed as a change in y divided by a change in x).\n",
    "\n",
    "In this context, the slope of a vertical line is considered undefined, as there is no change in the x-coordinate. A vertical line goes straight up and down, which means the change in x is zero. So, the formula for the slope (Δy/Δx) results in division by zero, which is undefined."
   ]
  },
  {
   "cell_type": "markdown",
   "id": "d525b441",
   "metadata": {},
   "source": [
    "## 5. In linear regression, what are the conditions for a positive slope?"
   ]
  },
  {
   "cell_type": "markdown",
   "id": "c8fa0463",
   "metadata": {},
   "source": [
    "**Ans:**"
   ]
  },
  {
   "cell_type": "markdown",
   "id": "156cb6df",
   "metadata": {},
   "source": [
    "In linear regression, a positive slope indicates a positive relationship between the independent variable (X) and the dependent variable (Y). Conditions that typically result in a positive slope include:\n",
    "\n",
    "1. Direct Relationship: When there is a direct, positive relationship between the independent variable and the dependent variable, an increase in the independent variable leads to an increase in the dependent variable.\n",
    "\n",
    "2. Positive Correlation: A positive correlation between X and Y implies that as X values increase, Y values also increase. This is a fundamental condition for a positive slope.\n",
    "\n",
    "3. Scatterplot Pattern: When you create a scatterplot of your data, you will observe a general upward trend. Points on the scatterplot tend to cluster in a way that indicates a rising pattern from left to right.\n",
    "\n",
    "4. Positive Coefficient: In the equation of the regression line (Y = a + bX), a positive value of the coefficient 'b' represents a positive slope. It indicates that for each unit increase in X, Y is expected to increase by 'b' units.\n",
    "\n",
    "5. Positive Residuals: In a linear regression analysis, the residuals (the differences between the observed Y values and the predicted Y values from the regression line) should be primarily positive. This suggests that the actual data points are generally above the regression line.\n",
    "\n",
    "It's important to note that these conditions are for simple linear regression with one independent variable. In multiple linear regression (involving more than one independent variable), the interpretation of the slope becomes more complex, as it considers the impact of each independent variable while holding others constant."
   ]
  },
  {
   "cell_type": "markdown",
   "id": "702b74b0",
   "metadata": {},
   "source": [
    "## 6. In linear regression, what are the conditions for a negative slope?"
   ]
  },
  {
   "cell_type": "markdown",
   "id": "6bb02ff1",
   "metadata": {},
   "source": [
    "**Ans:**"
   ]
  },
  {
   "cell_type": "markdown",
   "id": "ff4d3a90",
   "metadata": {},
   "source": [
    "In linear regression, a negative slope indicates a negative relationship between the independent variable (X) and the dependent variable (Y). Conditions that typically result in a negative slope include:\n",
    "\n",
    "1. Inverse Relationship: When there is an inverse, negative relationship between the independent variable and the dependent variable, an increase in the independent variable leads to a decrease in the dependent variable.\n",
    "\n",
    "2. Negative Correlation: A negative correlation between X and Y implies that as X values increase, Y values tend to decrease. This is a fundamental condition for a negative slope.\n",
    "\n",
    "3. Scatterplot Pattern: When you create a scatterplot of your data, you will observe a general downward trend. Points on the scatterplot tend to cluster in a way that indicates a decreasing pattern from left to right.\n",
    "\n",
    "4. Negative Coefficient: In the equation of the regression line (Y = mX+c), a negative value of the coefficient 'm' represents a negative slope. It indicates that for each unit increase in X, Y is expected to decrease by 'm' units.\n",
    "\n",
    "5. Negative Residuals: In a linear regression analysis, the residuals (the differences between the observed Y values and the predicted Y values from the regression line) should be primarily negative. This suggests that the actual data points are generally below the regression line.\n",
    "\n",
    "It's important to note that these conditions are for simple linear regression with one independent variable. In multiple linear regression (involving more than one independent variable), the interpretation of the slope becomes more complex, as it considers the impact of each independent variable while holding others constant."
   ]
  },
  {
   "cell_type": "markdown",
   "id": "8e754c7e",
   "metadata": {},
   "source": [
    "## 7. What is multiple linear regression and how does it work?"
   ]
  },
  {
   "cell_type": "markdown",
   "id": "fea00620",
   "metadata": {},
   "source": [
    "**Ans:**"
   ]
  },
  {
   "cell_type": "markdown",
   "id": "5c919b00",
   "metadata": {},
   "source": [
    "**Ans:**"
   ]
  },
  {
   "cell_type": "markdown",
   "id": "e966daf1",
   "metadata": {},
   "source": [
    "Multiple linear regression is a statistical modeling technique used in the field of machine learning and statistics to analyze the relationship between a dependent variable (or target variable) and multiple independent variables (or predictors). It extends the concept of simple linear regression, which examines the relationship between two variables, by considering more than one independent variable. Multiple linear regression aims to find a linear relationship that best fits the data, allowing us to predict the value of the dependent variable based on the values of the independent variables.\n",
    "\n",
    "Here's how multiple linear regression works:\n",
    "\n",
    "\n",
    "1. **Data Collection**: Collect a dataset that includes values of the dependent variable and multiple independent variables. Each observation or data point consists of the values of all variables for that specific instance.\n",
    "\n",
    "\n",
    "2. **Assumption of Linearity**: It assumes that there is a linear relationship between the dependent variable (Y) and the independent variables (X1, X2, X3, ...). The linear relationship is represented as:\n",
    "\n",
    "   $$Y = β0 + β1*X1 + β2*X2 + β3*X3 + ... + ε$$\n",
    "\n",
    "   Where:\n",
    "   - $Y$ is the dependent variable.\n",
    "   - $X1$, $X2$, $X3$, ... are independent variables.\n",
    "   - $β0$ is the intercept (constant) term.\n",
    "   - $β1$, $β2$, $β3$, ... are the coefficients that represent the strength and direction of the relationship between each independent variable and the dependent variable.\n",
    "   - $ε$ is the error term, representing the variability that cannot be explained by the model.\n",
    "\n",
    "3. **Model Training**: The goal is to find the values of the coefficients (β0, β1, β2, β3, ...) that minimize the sum of squared errors (SSE) between the actual values of Y and the predicted values based on the model. This is usually done using methods like the least squares method.\n",
    "\n",
    "\n",
    "4. **Model Evaluation**: The model's performance is assessed using various metrics, including the coefficient of determination (R-squared), Mean Squared Error (MSE), and others, to determine how well it fits the data. A good model will have coefficients that are statistically significant and a high R-squared value.\n",
    "\n",
    "\n",
    "5. **Prediction**: Once the model is trained and validated, it can be used to make predictions on new data. By providing values for the independent variables, you can predict the corresponding value of the dependent variable.\n",
    "\n",
    "\n",
    "### Example:"
   ]
  },
  {
   "cell_type": "code",
   "execution_count": 1,
   "id": "a6462f85",
   "metadata": {},
   "outputs": [],
   "source": [
    "from sklearn.datasets import load_boston"
   ]
  },
  {
   "cell_type": "code",
   "execution_count": 22,
   "id": "1d3b6d60",
   "metadata": {},
   "outputs": [
    {
     "data": {
      "text/html": [
       "<div>\n",
       "<style scoped>\n",
       "    .dataframe tbody tr th:only-of-type {\n",
       "        vertical-align: middle;\n",
       "    }\n",
       "\n",
       "    .dataframe tbody tr th {\n",
       "        vertical-align: top;\n",
       "    }\n",
       "\n",
       "    .dataframe thead th {\n",
       "        text-align: right;\n",
       "    }\n",
       "</style>\n",
       "<table border=\"1\" class=\"dataframe\">\n",
       "  <thead>\n",
       "    <tr style=\"text-align: right;\">\n",
       "      <th></th>\n",
       "      <th>CRIM</th>\n",
       "      <th>ZN</th>\n",
       "      <th>INDUS</th>\n",
       "      <th>CHAS</th>\n",
       "      <th>NOX</th>\n",
       "      <th>RM</th>\n",
       "      <th>AGE</th>\n",
       "      <th>DIS</th>\n",
       "      <th>RAD</th>\n",
       "      <th>TAX</th>\n",
       "      <th>PTRATIO</th>\n",
       "      <th>B</th>\n",
       "      <th>LSTAT</th>\n",
       "      <th>MEDV</th>\n",
       "    </tr>\n",
       "  </thead>\n",
       "  <tbody>\n",
       "    <tr>\n",
       "      <th>0</th>\n",
       "      <td>0.00632</td>\n",
       "      <td>18.0</td>\n",
       "      <td>2.31</td>\n",
       "      <td>0.0</td>\n",
       "      <td>0.538</td>\n",
       "      <td>6.575</td>\n",
       "      <td>65.2</td>\n",
       "      <td>4.0900</td>\n",
       "      <td>1.0</td>\n",
       "      <td>296.0</td>\n",
       "      <td>15.3</td>\n",
       "      <td>396.90</td>\n",
       "      <td>4.98</td>\n",
       "      <td>24.0</td>\n",
       "    </tr>\n",
       "    <tr>\n",
       "      <th>1</th>\n",
       "      <td>0.02731</td>\n",
       "      <td>0.0</td>\n",
       "      <td>7.07</td>\n",
       "      <td>0.0</td>\n",
       "      <td>0.469</td>\n",
       "      <td>6.421</td>\n",
       "      <td>78.9</td>\n",
       "      <td>4.9671</td>\n",
       "      <td>2.0</td>\n",
       "      <td>242.0</td>\n",
       "      <td>17.8</td>\n",
       "      <td>396.90</td>\n",
       "      <td>9.14</td>\n",
       "      <td>21.6</td>\n",
       "    </tr>\n",
       "    <tr>\n",
       "      <th>2</th>\n",
       "      <td>0.02729</td>\n",
       "      <td>0.0</td>\n",
       "      <td>7.07</td>\n",
       "      <td>0.0</td>\n",
       "      <td>0.469</td>\n",
       "      <td>7.185</td>\n",
       "      <td>61.1</td>\n",
       "      <td>4.9671</td>\n",
       "      <td>2.0</td>\n",
       "      <td>242.0</td>\n",
       "      <td>17.8</td>\n",
       "      <td>392.83</td>\n",
       "      <td>4.03</td>\n",
       "      <td>34.7</td>\n",
       "    </tr>\n",
       "    <tr>\n",
       "      <th>3</th>\n",
       "      <td>0.03237</td>\n",
       "      <td>0.0</td>\n",
       "      <td>2.18</td>\n",
       "      <td>0.0</td>\n",
       "      <td>0.458</td>\n",
       "      <td>6.998</td>\n",
       "      <td>45.8</td>\n",
       "      <td>6.0622</td>\n",
       "      <td>3.0</td>\n",
       "      <td>222.0</td>\n",
       "      <td>18.7</td>\n",
       "      <td>394.63</td>\n",
       "      <td>2.94</td>\n",
       "      <td>33.4</td>\n",
       "    </tr>\n",
       "    <tr>\n",
       "      <th>4</th>\n",
       "      <td>0.06905</td>\n",
       "      <td>0.0</td>\n",
       "      <td>2.18</td>\n",
       "      <td>0.0</td>\n",
       "      <td>0.458</td>\n",
       "      <td>7.147</td>\n",
       "      <td>54.2</td>\n",
       "      <td>6.0622</td>\n",
       "      <td>3.0</td>\n",
       "      <td>222.0</td>\n",
       "      <td>18.7</td>\n",
       "      <td>396.90</td>\n",
       "      <td>5.33</td>\n",
       "      <td>36.2</td>\n",
       "    </tr>\n",
       "    <tr>\n",
       "      <th>...</th>\n",
       "      <td>...</td>\n",
       "      <td>...</td>\n",
       "      <td>...</td>\n",
       "      <td>...</td>\n",
       "      <td>...</td>\n",
       "      <td>...</td>\n",
       "      <td>...</td>\n",
       "      <td>...</td>\n",
       "      <td>...</td>\n",
       "      <td>...</td>\n",
       "      <td>...</td>\n",
       "      <td>...</td>\n",
       "      <td>...</td>\n",
       "      <td>...</td>\n",
       "    </tr>\n",
       "    <tr>\n",
       "      <th>501</th>\n",
       "      <td>0.06263</td>\n",
       "      <td>0.0</td>\n",
       "      <td>11.93</td>\n",
       "      <td>0.0</td>\n",
       "      <td>0.573</td>\n",
       "      <td>6.593</td>\n",
       "      <td>69.1</td>\n",
       "      <td>2.4786</td>\n",
       "      <td>1.0</td>\n",
       "      <td>273.0</td>\n",
       "      <td>21.0</td>\n",
       "      <td>391.99</td>\n",
       "      <td>9.67</td>\n",
       "      <td>22.4</td>\n",
       "    </tr>\n",
       "    <tr>\n",
       "      <th>502</th>\n",
       "      <td>0.04527</td>\n",
       "      <td>0.0</td>\n",
       "      <td>11.93</td>\n",
       "      <td>0.0</td>\n",
       "      <td>0.573</td>\n",
       "      <td>6.120</td>\n",
       "      <td>76.7</td>\n",
       "      <td>2.2875</td>\n",
       "      <td>1.0</td>\n",
       "      <td>273.0</td>\n",
       "      <td>21.0</td>\n",
       "      <td>396.90</td>\n",
       "      <td>9.08</td>\n",
       "      <td>20.6</td>\n",
       "    </tr>\n",
       "    <tr>\n",
       "      <th>503</th>\n",
       "      <td>0.06076</td>\n",
       "      <td>0.0</td>\n",
       "      <td>11.93</td>\n",
       "      <td>0.0</td>\n",
       "      <td>0.573</td>\n",
       "      <td>6.976</td>\n",
       "      <td>91.0</td>\n",
       "      <td>2.1675</td>\n",
       "      <td>1.0</td>\n",
       "      <td>273.0</td>\n",
       "      <td>21.0</td>\n",
       "      <td>396.90</td>\n",
       "      <td>5.64</td>\n",
       "      <td>23.9</td>\n",
       "    </tr>\n",
       "    <tr>\n",
       "      <th>504</th>\n",
       "      <td>0.10959</td>\n",
       "      <td>0.0</td>\n",
       "      <td>11.93</td>\n",
       "      <td>0.0</td>\n",
       "      <td>0.573</td>\n",
       "      <td>6.794</td>\n",
       "      <td>89.3</td>\n",
       "      <td>2.3889</td>\n",
       "      <td>1.0</td>\n",
       "      <td>273.0</td>\n",
       "      <td>21.0</td>\n",
       "      <td>393.45</td>\n",
       "      <td>6.48</td>\n",
       "      <td>22.0</td>\n",
       "    </tr>\n",
       "    <tr>\n",
       "      <th>505</th>\n",
       "      <td>0.04741</td>\n",
       "      <td>0.0</td>\n",
       "      <td>11.93</td>\n",
       "      <td>0.0</td>\n",
       "      <td>0.573</td>\n",
       "      <td>6.030</td>\n",
       "      <td>80.8</td>\n",
       "      <td>2.5050</td>\n",
       "      <td>1.0</td>\n",
       "      <td>273.0</td>\n",
       "      <td>21.0</td>\n",
       "      <td>396.90</td>\n",
       "      <td>7.88</td>\n",
       "      <td>11.9</td>\n",
       "    </tr>\n",
       "  </tbody>\n",
       "</table>\n",
       "<p>506 rows × 14 columns</p>\n",
       "</div>"
      ],
      "text/plain": [
       "        CRIM    ZN  INDUS  CHAS    NOX     RM   AGE     DIS  RAD    TAX  \\\n",
       "0    0.00632  18.0   2.31   0.0  0.538  6.575  65.2  4.0900  1.0  296.0   \n",
       "1    0.02731   0.0   7.07   0.0  0.469  6.421  78.9  4.9671  2.0  242.0   \n",
       "2    0.02729   0.0   7.07   0.0  0.469  7.185  61.1  4.9671  2.0  242.0   \n",
       "3    0.03237   0.0   2.18   0.0  0.458  6.998  45.8  6.0622  3.0  222.0   \n",
       "4    0.06905   0.0   2.18   0.0  0.458  7.147  54.2  6.0622  3.0  222.0   \n",
       "..       ...   ...    ...   ...    ...    ...   ...     ...  ...    ...   \n",
       "501  0.06263   0.0  11.93   0.0  0.573  6.593  69.1  2.4786  1.0  273.0   \n",
       "502  0.04527   0.0  11.93   0.0  0.573  6.120  76.7  2.2875  1.0  273.0   \n",
       "503  0.06076   0.0  11.93   0.0  0.573  6.976  91.0  2.1675  1.0  273.0   \n",
       "504  0.10959   0.0  11.93   0.0  0.573  6.794  89.3  2.3889  1.0  273.0   \n",
       "505  0.04741   0.0  11.93   0.0  0.573  6.030  80.8  2.5050  1.0  273.0   \n",
       "\n",
       "     PTRATIO       B  LSTAT  MEDV  \n",
       "0       15.3  396.90   4.98  24.0  \n",
       "1       17.8  396.90   9.14  21.6  \n",
       "2       17.8  392.83   4.03  34.7  \n",
       "3       18.7  394.63   2.94  33.4  \n",
       "4       18.7  396.90   5.33  36.2  \n",
       "..       ...     ...    ...   ...  \n",
       "501     21.0  391.99   9.67  22.4  \n",
       "502     21.0  396.90   9.08  20.6  \n",
       "503     21.0  396.90   5.64  23.9  \n",
       "504     21.0  393.45   6.48  22.0  \n",
       "505     21.0  396.90   7.88  11.9  \n",
       "\n",
       "[506 rows x 14 columns]"
      ]
     },
     "execution_count": 22,
     "metadata": {},
     "output_type": "execute_result"
    }
   ],
   "source": [
    "boston_data = load_boston()\n",
    "boston_df = pd.DataFrame(boston_data.data, columns=boston_data.feature_names)\n",
    "\n",
    "boston_df['MEDV'] = boston_data.target\n",
    "boston_df"
   ]
  },
  {
   "cell_type": "code",
   "execution_count": 14,
   "id": "4e088853",
   "metadata": {},
   "outputs": [],
   "source": [
    "import pandas as pd\n",
    "import numpy as np\n",
    "import matplotlib.pyplot as plt\n",
    "import pickle\n",
    "from sklearn.model_selection import train_test_split\n",
    "from sklearn.linear_model import Ridge, Lasso, RidgeCV, LassoCV, ElasticNet, ElasticNetCV, LinearRegression"
   ]
  },
  {
   "cell_type": "code",
   "execution_count": 23,
   "id": "25fbdc81",
   "metadata": {},
   "outputs": [],
   "source": [
    "def sklearn_to_df(data_loader):\n",
    "\n",
    "    X_data = data_loader.data\n",
    "\n",
    "    X_columns = data_loader.feature_names\n",
    "\n",
    "    X = pd.DataFrame(X_data, columns=X_columns)\n",
    "\n",
    "    y_data = data_loader.target\n",
    "\n",
    "    y = pd.Series(y_data, name='target')\n",
    "\n",
    "    return X, y"
   ]
  },
  {
   "cell_type": "code",
   "execution_count": 24,
   "id": "30bcd08d",
   "metadata": {},
   "outputs": [],
   "source": [
    "X, y = sklearn_to_df(load_boston())\n",
    "x_train, x_test, y_train, y_test = train_test_split(X, y, test_size=0.2, random_state=42)"
   ]
  },
  {
   "cell_type": "code",
   "execution_count": 15,
   "id": "aed9796d",
   "metadata": {},
   "outputs": [],
   "source": [
    "lr = LinearRegression()    #calling the LinearRegression algorithm"
   ]
  },
  {
   "cell_type": "code",
   "execution_count": 16,
   "id": "c041663a",
   "metadata": {},
   "outputs": [
    {
     "data": {
      "text/plain": [
       "LinearRegression()"
      ]
     },
     "execution_count": 16,
     "metadata": {},
     "output_type": "execute_result"
    }
   ],
   "source": [
    "lr.fit(x_train, y_train) "
   ]
  },
  {
   "cell_type": "code",
   "execution_count": 35,
   "id": "730b3f98",
   "metadata": {},
   "outputs": [],
   "source": [
    "pred = lr.predict(x_test)"
   ]
  },
  {
   "cell_type": "code",
   "execution_count": 45,
   "id": "e7da1996",
   "metadata": {},
   "outputs": [
    {
     "name": "stdout",
     "output_type": "stream",
     "text": [
      "R-squared (coefficient of determination): 0.6687594935356329\n"
     ]
    }
   ],
   "source": [
    "r_squared = lr.score(x_test, y_test)\n",
    "print(\"R-squared (coefficient of determination):\", r_squared)"
   ]
  },
  {
   "cell_type": "markdown",
   "id": "90a657a4",
   "metadata": {},
   "source": [
    "## 8. In multiple linear regression, define the number of squares due to error."
   ]
  },
  {
   "cell_type": "markdown",
   "id": "e0c5c723",
   "metadata": {},
   "source": [
    "**Ans:**"
   ]
  },
  {
   "cell_type": "markdown",
   "id": "d3bd5853",
   "metadata": {},
   "source": [
    "**Residual sum of squares (RSS):**"
   ]
  },
  {
   "cell_type": "markdown",
   "id": "6ecd35be",
   "metadata": {},
   "source": [
    "RSS measures the discrepancy between the observed values and the values predicted by the regression model. A smaller RSS indicates that the model does a better job of explaining the variance in the dependent variable, while a larger RSS suggests that there is a significant amount of unexplained variation or error in the model. The goal in multiple linear regression is to find model parameters that minimize the RSS, thereby creating the best-fitting linear model.\n",
    "\n",
    "\n",
    "$$RSS = \\sum_{i=1}^{n} \\left( y_i - \\hat{y}_i \\right)^2$$\n",
    "\n",
    "\n",
    "Where:\n",
    "- $y_i$ is the observed or actual value of the dependent variable for the $i$th data point.\n",
    "- $\\hat{y}_i$ is the predicted value of the dependent variable for the $i$th data point based on the multiple linear regression model.\n",
    "- $n$ is the number of data points.\n",
    "\n"
   ]
  },
  {
   "cell_type": "markdown",
   "id": "cd768eca",
   "metadata": {},
   "source": [
    "## 9. In multiple linear regression, define the number of squares due to regression."
   ]
  },
  {
   "cell_type": "markdown",
   "id": "90651715",
   "metadata": {},
   "source": [
    "**Ans:**"
   ]
  },
  {
   "cell_type": "markdown",
   "id": "1d14e072",
   "metadata": {},
   "source": [
    "**Sum of Squares due to Regression (SSR):**\n",
    "\n",
    "In multiple linear regression, the \"sum of squares due to regression\" (SSR) is a measure of the variation in the dependent variable (response) that is explained by the regression model. It quantifies how well the independent variables (predictors) in the model collectively account for the variability in the dependent variable. Mathematically, SSR is defined as:\n",
    "\n",
    "$$SSR = \\sum_{i=1}^{n} \\left( \\hat{y}_i - \\bar{y} \\right)^2$$\n",
    "\n",
    "Where:\n",
    "\n",
    "- $\\hat{y}_i$ is the predicted value of the dependent variable for the $i$th data point based on the multiple linear regression model.\n",
    "- $\\bar{y}$ is the mean (average) of the observed values of the dependent variable.\n",
    "- $n$ is the number of data points.\n",
    "\n",
    "SSR measures the extent to which the model explains the variation in the dependent variable. A higher SSR indicates that the regression model is doing a better job of explaining and predicting the observed data, while a lower SSR suggests that the model is less effective at explaining the variability. The goal in multiple linear regression is to find model parameters that maximize SSR, thus producing a better-fitting linear model."
   ]
  },
  {
   "cell_type": "markdown",
   "id": "95a3b421",
   "metadata": {},
   "source": [
    "## 10. In a regression equation, what is multicollinearity?"
   ]
  },
  {
   "cell_type": "markdown",
   "id": "5b027758",
   "metadata": {},
   "source": [
    "**Ans:**"
   ]
  },
  {
   "cell_type": "markdown",
   "id": "8d123fe1",
   "metadata": {},
   "source": [
    "### Multicollinearity:\n",
    "\n",
    "In a regression equation, multicollinearity is a statistical phenomenon in which two or more independent variables (predictors) are highly correlated with each other. Multicollinearity can pose a problem because it makes it challenging to isolate the individual effect of each independent variable on the dependent variable.\n",
    "\n",
    "It can lead to several issues, including:\n",
    "\n",
    "1. **Loss of Variable Importance:** When multicollinearity is present, it becomes difficult to determine the unique contribution of each correlated variable to the variation in the dependent variable. As a result, it can be challenging to identify which variables are truly important in the regression model.\n",
    "\n",
    "\n",
    "2. **Unreliable Coefficient Estimates:** Multicollinearity can lead to unstable and unreliable coefficient estimates. Small changes in the data can result in significantly different coefficient values for the correlated variables.\n",
    "\n",
    "\n",
    "3. **Reduced Interpretability:** Multicollinearity makes it harder to interpret the relationships between independent variables and the dependent variable. It becomes less clear how changes in one variable impact the dependent variable when other variables are highly correlated.\n",
    "\n",
    "\n",
    "4. **Inflated Standard Errors:** Multicollinearity can lead to inflated standard errors for the regression coefficients. This, in turn, widens confidence intervals and makes it difficult to assess the statistical significance of variables.\n",
    "\n",
    "\n",
    "5. **Reduced Model Generalization:** In some cases, multicollinearity can affect the model's ability to generalize to new data, potentially reducing its predictive performance.\n",
    "\n",
    "\n",
    "To address multicollinearity, researchers typically employ techniques such as:\n",
    "\n",
    "- **Variable Selection:** Identifying and removing one of the correlated variables if they are conceptually similar or redundant.\n",
    "\n",
    "\n",
    "- **Variable Transformation:** Transforming variables to reduce their correlation, such as using principal component analysis (PCA).\n",
    "\n",
    "\n",
    "- **Regularization:** Applying techniques like ridge regression or lasso regression, which can reduce the impact of multicollinearity on coefficient estimates.\n",
    "\n",
    "\n",
    "- **Collecting More Data:** Increasing the sample size can sometimes mitigate the effects of multicollinearity.\n",
    "\n"
   ]
  },
  {
   "cell_type": "markdown",
   "id": "11b7d2f1",
   "metadata": {},
   "source": [
    "## 11. What is heteroskedasticity, and what does it mean?"
   ]
  },
  {
   "cell_type": "markdown",
   "id": "1748c33e",
   "metadata": {},
   "source": [
    "**Ans:**"
   ]
  },
  {
   "cell_type": "markdown",
   "id": "9be5149a",
   "metadata": {},
   "source": [
    "Heteroskedasticity, also known as heteroscedasticity, is a statistical term used in the context of regression analysis to describe a particular pattern of variability or dispersion in the residuals (the differences between observed and predicted values) of a regression model. More specifically, heteroskedasticity refers to a situation where the variability of the residuals is not constant across all levels of the independent variable(s). \n",
    "\n",
    "\n",
    "In simpler terms, it means that the spread or dispersion of the residuals changes as the values of the independent variable(s) change."
   ]
  },
  {
   "cell_type": "markdown",
   "id": "c9d0d3f6",
   "metadata": {},
   "source": [
    "## 12. Describe the concept of ridge regression."
   ]
  },
  {
   "cell_type": "markdown",
   "id": "3e2abe78",
   "metadata": {},
   "source": [
    "**Ans:**"
   ]
  },
  {
   "cell_type": "markdown",
   "id": "3ef941ea",
   "metadata": {},
   "source": [
    "### Ridge Regression (L2 regularization):\n",
    "\n",
    "Ridge regression, also known as L2 regularization, is a linear regression technique used for modeling the relationship between a dependent variable and one or more independent variables. It is an extension of ordinary least squares (OLS) regression with the primary goal of addressing multicollinearity and overfitting.\n",
    "\n",
    "Here's a detailed description of the concept of ridge regression:\n",
    "\n",
    "1. **Background**:\n",
    "   - Ridge regression is often used when dealing with multiple linear regression, where there are multiple independent variables (features) that may be correlated. In such cases, multicollinearity can arise, which makes it challenging to estimate the coefficients accurately.\n",
    "\n",
    "2. **Objective**:\n",
    "   - The primary objective of ridge regression is to prevent overfitting and stabilize the coefficient estimates when there is multicollinearity in the data. Overfitting occurs when the model fits the training data too closely and may perform poorly on unseen data.\n",
    "\n",
    "3. **Mathematical Approach**:\n",
    "   - Ridge regression introduces an L2 regularization term to the OLS regression's cost function. The cost function in ridge regression is modified to minimize the sum of squared residuals (as in OLS) along with the sum of squared values of the coefficient estimates multiplied by a tuning parameter (λ or alpha).\n",
    "   - The cost function in ridge regression is: \n",
    "    $$J(\\theta) = \\text{RSS} + \\lambda \\sum_{j=1}^{p} \\theta_j^2$$\n",
    "     where:\n",
    "     - $\\text{RSS}$ represents the residual sum of squares, which measures the squared differences between the observed and predicted values.\n",
    "     - $\\lambda$ is the tuning parameter (hyperparameter) that controls the strength of the regularization. It's a non-negative value, and when \\(\\lambda = 0\\), ridge regression is equivalent to OLS. As $\\lambda$ increases, the impact of regularization on the coefficients becomes stronger.\n",
    "     - $\\theta_j$ is the coefficient estimate for the $j$th independent variable.\n",
    "\n",
    "4. **Effect of Ridge Regression**:\n",
    "   - Ridge regression shrinks the coefficient estimates toward zero but does not force them to be exactly zero. This means that even less influential features still have non-zero coefficient estimates, which can help in cases where all features are relevant to the prediction.\n",
    "   - By introducing the regularization term, ridge regression helps reduce multicollinearity by spreading the importance of correlated features across multiple variables.\n",
    "\n",
    "5. **Parameter Tuning**:\n",
    "   - The choice of the tuning parameter $\\lambda$ in ridge regression is critical. Cross-validation techniques are commonly used to select the optimal value of $\\lambda$ that balances model complexity and accuracy.\n",
    "\n",
    "6. **Applications**:\n",
    "   - Ridge regression is widely used in various fields, including economics, finance, and machine learning. It's especially valuable when dealing with high-dimensional datasets and situations where multicollinearity is prevalent.\n",
    "\n",
    "**Ridge regression is a regularization technique that enhances the stability of linear regression models by adding an L2 penalty to the coefficients. It helps mitigate multicollinearity and provides better generalization to unseen data, making it a valuable tool in predictive modeling.**"
   ]
  },
  {
   "cell_type": "markdown",
   "id": "f8924a60",
   "metadata": {},
   "source": [
    "## 13. Describe the concept of lasso regression."
   ]
  },
  {
   "cell_type": "markdown",
   "id": "defc49fd",
   "metadata": {},
   "source": [
    "**Ans:**"
   ]
  },
  {
   "cell_type": "markdown",
   "id": "c78d6f48",
   "metadata": {},
   "source": [
    "### Lasso Regression (L1 Regularization):\n",
    "\n",
    "Lasso regression is a type of linear regression that uses shrinkage. Shrinkage is where data values are shrunk towards a central point, like the mean. The lasso procedure encourages simple, sparse models (i.e. models with fewer parameters). This particular type of regression is well-suited for models showing high levels of muticollinearity or when you want to automate certain parts of model selection, like variable selection/parameter elimination.\n",
    "\n",
    "The acronym “LASSO” stands for **Least Absolute Shrinkage and Selection Operator**."
   ]
  },
  {
   "cell_type": "markdown",
   "id": "861e6f43",
   "metadata": {},
   "source": [
    "- The cost function in Lasso regression is a combination of two terms: the mean squared error (MSE) loss term and the L1 regularization term. The objective of Lasso is to minimize this cost function. The cost function is defined as follows:\n",
    "\n",
    "$$J(\\beta) = \\frac{1}{2m}\\sum_{i=1}^{m} (h_\\beta(x^{(i)}) - y^{(i)})^2 + \\alpha\\sum_{j=1}^{n} |\\beta_j|$$\n",
    "\n",
    "Where:\n",
    "\n",
    "- $J(\\beta)$ is the cost function to be minimized.\n",
    "- $\\beta$ is the vector of coefficients (parameters) to be estimated.\n",
    "- $m$ is the number of training examples.\n",
    "- $x^{(i)}$ represents the feature vector of the $i$-th training example.\n",
    "- $h_\\beta(x^{(i)})$ is the predicted value for the $i$-th example using the current model with coefficients \\(\\beta\\).\n",
    "- $y^{(i)}\\) is the actual target value for the \\(i\\)-th example.\n",
    "- \\(\\alpha\\) (alpha) is the regularization parameter (also known as the regularization strength or lambda).\n",
    "- \\(n\\) is the total number of features.\n",
    "\n",
    "The cost function has two main components:\n",
    "\n",
    "1. **Mean Squared Error (MSE) Loss Term**: The first term on the right side of the equation represents the traditional MSE loss, which measures the squared error between the predicted values and the actual target values. This term encourages the model to fit the training data well.\n",
    "\n",
    "2. **L1 Regularization Term**: The second term on the right side is the L1 regularization term. It is the absolute sum of the coefficients, weighted by the regularization parameter \\(\\alpha\\). This term encourages some of the coefficients to be exactly zero, effectively performing feature selection. The higher the value of \\(\\alpha\\), the stronger the regularization, and the more coefficients are pushed towards zero.\n",
    "\n",
    "The overall objective of Lasso regression is to find the values of the coefficients \\(\\beta\\) that minimize this cost function. By doing so, the model aims to strike a balance between fitting the data well and keeping the model simple by setting some coefficients to zero. The choice of \\(\\alpha\\) controls the trade-off between these two objectives."
   ]
  },
  {
   "cell_type": "markdown",
   "id": "dc81051f",
   "metadata": {},
   "source": [
    "## 14. What is polynomial regression and how does it work?"
   ]
  },
  {
   "cell_type": "markdown",
   "id": "6b543428",
   "metadata": {},
   "source": [
    "**Ans:**"
   ]
  },
  {
   "cell_type": "markdown",
   "id": "60c30237",
   "metadata": {},
   "source": [
    "Polynomial regression is a type of regression analysis that models the relationship between a dependent variable and one or more independent variables as an nth-degree polynomial. It is an extension of simple linear regression, where the relationship between variables is assumed to be linear (i.e., a straight line). In polynomial regression, we allow for a more complex, nonlinear relationship by introducing higher-degree polynomial terms.\n",
    "\n",
    "The general form of a polynomial regression model is:\n",
    "\n",
    "$$Y = \\beta_0 + \\beta_1X + \\beta_2X^2 + \\beta_3X^3 + \\ldots + \\beta_nX^n + \\varepsilon$$\n",
    "\n",
    "Where:\n",
    "\n",
    "- $Y$ is the dependent variable we want to predict.\n",
    "- $X$ is the independent variable or predictor variable.\n",
    "- $\\beta_0, \\beta_1, \\beta_2, \\ldots, \\beta_n$ are the coefficients to be estimated, where $\\beta_0$ represents the intercept, and $\\beta_1$ to $\\beta_n$ represent the coefficients of the polynomial terms.\n",
    "- $X^2, X^3, \\ldots, X^n$ are the higher-degree polynomial terms, allowing for nonlinear relationships.\n",
    "- $\\varepsilon$ is the error term representing the noise or unexplained variation in the data.\n",
    "\n",
    "Polynomial regression allows us to capture more complex patterns and relationships in the data. By choosing an appropriate degree for the polynomial (e.g., $n=2$ for quadratic regression, $n=3$ for cubic regression, etc.), we can model curves, parabolas, or other nonlinear shapes in the data.\n",
    "\n",
    "The steps for performing polynomial regression are as follows:\n",
    "\n",
    "1. **Data Preparation**: Collect and preprocess the data, including the dependent and independent variables.\n",
    "\n",
    "2. **Model Selection**: Choose the degree of the polynomial (e.g., linear, quadratic, cubic) based on the nature of the relationship between variables and domain knowledge.\n",
    "\n",
    "3. **Model Fitting**: Estimate the coefficients $\\beta_0, \\beta_1, \\beta_2, \\ldots, \\beta_n$ using the selected polynomial degree.\n",
    "\n",
    "4. **Model Evaluation**: Evaluate the model's goodness of fit and check for overfitting or underfitting.\n",
    "\n",
    "5. **Prediction**: Use the fitted model to make predictions on new data or to analyze the relationship between variables.\n",
    "\n",
    "It's important to note that selecting the appropriate degree of the polynomial is crucial. Choosing a degree that is too high can lead to overfitting, while selecting a degree that is too low may result in underfitting. Cross-validation techniques can help in determining the optimal degree for a given dataset."
   ]
  },
  {
   "cell_type": "markdown",
   "id": "c666595f",
   "metadata": {},
   "source": [
    "## 15. Describe the basis function."
   ]
  },
  {
   "cell_type": "markdown",
   "id": "4509985d",
   "metadata": {},
   "source": [
    "**Ans:**"
   ]
  },
  {
   "cell_type": "markdown",
   "id": "f93ad26f",
   "metadata": {},
   "source": [
    "### Basis Function:\n",
    "\n",
    "Basis functions, also known as basis expansion, are a fundamental concept in the context of regression analysis, including linear regression and polynomial regression. They refer to a set of functions used to transform the original independent variable(s) in a regression model into a new space with a more complex or flexible representation. These basis functions allow the modeling of nonlinear relationships between the independent and dependent variables.\n",
    "\n",
    "The idea behind basis functions is to extend the expressiveness of regression models beyond simple linear relationships. Instead of assuming that the relationship between variables is linear, we use a set of basis functions to create a more flexible and nonlinear model. Each basis function is applied to the original independent variable, and the linear combination of these transformed variables is used to predict the dependent variable.\n",
    "\n",
    "Here's how basis functions work:\n",
    "\n",
    "- Start with your original independent variable(s), denoted as $X$ in the regression model.\n",
    "\n",
    "\n",
    "- Introduce a set of basis functions, denoted as $\\phi_1(X), \\phi_2(X), \\ldots, \\phi_k(X)$. These functions can take different forms, such as polynomials (e.g., quadratic, cubic), trigonometric functions, exponential functions, Gaussian basis functions, or any other transformation that suits the problem.\n",
    "\n",
    "\n",
    "- For each basis function, you apply it to the original features, resulting in transformed features. For example, if you have a quadratic basis function, you apply it to $X$, and you get $X^2$.\n",
    "\n",
    "\n",
    "4. **Linear Combination**: The transformed features are combined linearly to form the final model. For instance, if you have a quadratic basis function and a cubic basis function, your model could be:\n",
    "\n",
    "\n",
    "   $$Y = \\beta_0 + \\beta_1 \\cdot X + \\beta_2 \\cdot X^2 + \\beta_3 \\cdot X^3 + \\varepsilon$$\n",
    "\n",
    "   Here, $\\beta_0, \\beta_1, \\beta_2, \\beta_3$ are the coefficients to be estimated.\n",
    "\n",
    "The choice of basis functions and their flexibility (e.g., polynomial degree, number of basis functions) determines the model's capacity to capture the underlying relationship in the data. Basis functions can make regression models more powerful and adaptable to various data patterns.\n",
    "\n",
    "Common examples of basis functions include polynomial basis functions (linear, quadratic, cubic), Fourier basis functions (for periodic patterns), and radial basis functions (used in radial basis function networks and kernel methods). The selection of the most appropriate basis functions often depends on the specific characteristics of the data and the problem at hand."
   ]
  },
  {
   "cell_type": "markdown",
   "id": "195eccfe",
   "metadata": {},
   "source": [
    "## 16. Describe how logistic regression works."
   ]
  },
  {
   "cell_type": "markdown",
   "id": "5bf98817",
   "metadata": {},
   "source": [
    "**Ans:**"
   ]
  },
  {
   "cell_type": "markdown",
   "id": "56bc0a7c",
   "metadata": {},
   "source": [
    "### Logistic Regression:\n",
    "\n",
    "Logistic regression is a statistical method used for binary classification tasks, where the goal is to predict the probability of an observation belonging to one of two classes (e.g., 0 or 1, Yes or No, True or False). It's called \"logistic\" because it uses the logistic function (also known as the sigmoid function) to model the relationship between the independent variables and the binary outcome.\n",
    "\n",
    "Here's how logistic regression works:\n",
    "\n",
    "1. **Sigmoid Function**: Logistic regression uses the sigmoid function (σ) to transform the linear combination of the independent variables into values between 0 and 1. The sigmoid function is defined as:\n",
    "\n",
    "\n",
    "   $$σ(z) = \\frac{1}{1 + e^{-z}}$$\n",
    "\n",
    "   Where $z$ is the linear combination of the independent variables and coefficients:\n",
    "\n",
    "   $$z = β_0 + β_1X_1 + β_2X_2 + \\ldots + β_kX_k$$\n",
    "\n",
    "   $β_0, β_1, β_2, \\ldots, β_k$ are the coefficients to be estimated.\n",
    "\n",
    "\n",
    "2. **Probability Estimation**: Logistic regression models the log-odds (logit) of the probability of the positive class (class 1). The log-odds is given by:\n",
    "\n",
    "\n",
    "   $$\\log\\left(\\frac{p}{1-p}\\right) = β_0 + β_1X_1 + β_2X_2 + \\ldots + β_kX_k$$\n",
    "\n",
    "\n",
    "   Where $p$ is the probability of the positive class. By exponentiating both sides of the equation and rearranging, we can solve for $p$:\n",
    "\n",
    "\n",
    "   $$p = \\frac{1}{1 + e^{-(β_0 + β_1X_1 + β_2X_2 + \\ldots + β_kX_k)}}$$\n",
    "\n",
    "\n",
    "   This equation estimates the probability of the positive class given the independent variables.\n",
    "\n",
    "3. **Training**: During training, the model's parameters (coefficients) \\(β_0, β_1, β_2, \\ldots, β_k\\) are estimated from the training data using techniques like maximum likelihood estimation.\n",
    "\n",
    "\n",
    "4. **Decision Boundary**: Once the model is trained, it can be used to make predictions by calculating the probability of the positive class for a new observation. A threshold (often 0.5) is applied to this probability to classify the observation into one of the two classes. If the estimated probability is greater than or equal to the threshold, the observation is classified as class 1; otherwise, it's classified as class 0.\n",
    "\n",
    "\n",
    "5. **Model Evaluation**: Logistic regression models are evaluated using metrics such as accuracy, precision, recall, F1 score, and the area under the receiver operating characteristic (ROC-AUC) curve.\n",
    "\n",
    "Logistic regression is widely used in various fields, including medicine, finance, marketing, and social sciences, for tasks such as spam detection, disease diagnosis, credit risk assessment, and customer churn prediction. It is a foundational algorithm in machine learning and provides a simple and interpretable way to model binary classification problems."
   ]
  },
  {
   "cell_type": "code",
   "execution_count": null,
   "id": "b91f648e",
   "metadata": {},
   "outputs": [],
   "source": []
  },
  {
   "cell_type": "code",
   "execution_count": null,
   "id": "ca01e889",
   "metadata": {},
   "outputs": [],
   "source": []
  }
 ],
 "metadata": {
  "kernelspec": {
   "display_name": "Python 3 (ipykernel)",
   "language": "python",
   "name": "python3"
  },
  "language_info": {
   "codemirror_mode": {
    "name": "ipython",
    "version": 3
   },
   "file_extension": ".py",
   "mimetype": "text/x-python",
   "name": "python",
   "nbconvert_exporter": "python",
   "pygments_lexer": "ipython3",
   "version": "3.9.7"
  }
 },
 "nbformat": 4,
 "nbformat_minor": 5
}
